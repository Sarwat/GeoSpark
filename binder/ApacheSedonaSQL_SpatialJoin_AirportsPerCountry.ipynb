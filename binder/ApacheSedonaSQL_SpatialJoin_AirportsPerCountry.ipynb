{
 "cells": [
  {
   "cell_type": "markdown",
   "metadata": {},
   "source": [
    "```\n",
    "Licensed to the Apache Software Foundation (ASF) under one\n",
    "or more contributor license agreements.  See the NOTICE file\n",
    "distributed with this work for additional information\n",
    "regarding copyright ownership.  The ASF licenses this file\n",
    "to you under the Apache License, Version 2.0 (the\n",
    "\"License\"); you may not use this file except in compliance\n",
    "with the License.  You may obtain a copy of the License at\n",
    "  http://www.apache.org/licenses/LICENSE-2.0\n",
    "Unless required by applicable law or agreed to in writing,\n",
    "software distributed under the License is distributed on an\n",
    "\"AS IS\" BASIS, WITHOUT WARRANTIES OR CONDITIONS OF ANY\n",
    "KIND, either express or implied.  See the License for the\n",
    "specific language governing permissions and limitations\n",
    "under the License.\n",
    "```"
   ]
  },
  {
   "cell_type": "code",
   "execution_count": 1,
   "metadata": {},
   "outputs": [],
   "source": [
    "import os\n",
    "\n",
    "import geopandas as gpd\n",
    "from pyspark.sql import SparkSession\n",
    "from pyspark.sql.functions import col, expr, when, explode, hex\n",
    "\n",
    "\n",
    "\n",
    "from sedona.spark import *\n",
    "from utilities import getConfig"
   ]
  },
  {
   "cell_type": "markdown",
   "metadata": {},
   "source": [
    "## Setup Sedona environment"
   ]
  },
  {
   "cell_type": "code",
   "execution_count": null,
   "metadata": {},
   "outputs": [],
   "source": [
    "config = SedonaContext.builder() .\\\n",
    "    config('spark.jars.packages',\n",
    "           'org.apache.sedona:sedona-spark-shaded-3.0_2.12:1.5.0,'\n",
    "           'org.datasyslab:geotools-wrapper:1.5.0-28.2'). \\\n",
    "    getOrCreate()\n",
    "\n",
    "sedona = SedonaContext.create(config)\n",
    "sc = sedona.sparkContext\n",
    "sc.setSystemProperty(\"sedona.global.charset\", \"utf8\")"
   ]
  },
  {
   "cell_type": "markdown",
   "metadata": {},
   "source": [
    "## Read countries shapefile into a Sedona DataFrame \n",
    "Data link: https://www.naturalearthdata.com/downloads/50m-cultural-vectors/"
   ]
  },
  {
   "cell_type": "code",
   "execution_count": null,
   "metadata": {},
   "outputs": [],
   "source": [
    "countries = ShapefileReader.readToGeometryRDD(sc, \"data/ne_50m_admin_0_countries_lakes/\")\n",
    "countries_df = Adapter.toDf(countries, sedona)\n",
    "countries_df.createOrReplaceTempView(\"country\")\n",
    "countries_df.printSchema()"
   ]
  },
  {
   "cell_type": "markdown",
   "metadata": {},
   "source": [
    "## Read airports shapefile into a Sedona DataFrame \n",
    "Data link: https://www.naturalearthdata.com/downloads/50m-cultural-vectors/"
   ]
  },
  {
   "cell_type": "code",
   "execution_count": 4,
   "metadata": {},
   "outputs": [
    {
     "name": "stdout",
     "output_type": "stream",
     "text": [
      "root\n",
      " |-- geometry: geometry (nullable = true)\n",
      " |-- scalerank: string (nullable = true)\n",
      " |-- featurecla: string (nullable = true)\n",
      " |-- type: string (nullable = true)\n",
      " |-- name: string (nullable = true)\n",
      " |-- abbrev: string (nullable = true)\n",
      " |-- location: string (nullable = true)\n",
      " |-- gps_code: string (nullable = true)\n",
      " |-- iata_code: string (nullable = true)\n",
      " |-- wikipedia: string (nullable = true)\n",
      " |-- natlscale: string (nullable = true)\n",
      "\n"
     ]
    }
   ],
   "source": [
    "airports = ShapefileReader.readToGeometryRDD(sc, \"data/ne_50m_airports/\")\n",
    "airports_df = Adapter.toDf(airports, sedona)\n",
    "airports_df.createOrReplaceTempView(\"airport\")\n",
    "airports_df.printSchema()"
   ]
  },
  {
   "cell_type": "markdown",
   "metadata": {},
   "source": [
    "\n",
    "\n",
    "## Run Spatial Join using SQL API"
   ]
  },
  {
   "cell_type": "code",
   "execution_count": 5,
   "metadata": {},
   "outputs": [],
   "source": [
    "result = sedona.sql(\"SELECT c.geometry as country_geom, c.NAME_EN, a.geometry as airport_geom, a.name FROM country c, airport a WHERE ST_Contains(c.geometry, a.geometry)\")"
   ]
  },
  {
   "cell_type": "markdown",
   "metadata": {},
   "source": [
    "## Run Spatial Join using RDD API"
   ]
  },
  {
   "cell_type": "code",
   "execution_count": 6,
   "metadata": {},
   "outputs": [
    {
     "name": "stdout",
     "output_type": "stream",
     "text": [
      "[('3.0', '2.12', '1.5.0')]\n"
     ]
    }
   ],
   "source": [
    "airports_rdd = Adapter.toSpatialRdd(airports_df, \"geometry\")\n",
    "# Drop the duplicate name column in countries_df\n",
    "countries_df = countries_df.drop(\"NAME\")\n",
    "countries_rdd = Adapter.toSpatialRdd(countries_df, \"geometry\")\n",
    "\n",
    "airports_rdd.analyze()\n",
    "countries_rdd.analyze()\n",
    "\n",
    "# 4 is the num partitions used in spatial partitioning. This is an optional parameter\n",
    "airports_rdd.spatialPartitioning(GridType.KDBTREE, 4)\n",
    "countries_rdd.spatialPartitioning(airports_rdd.getPartitioner())\n",
    "\n",
    "buildOnSpatialPartitionedRDD = True\n",
    "usingIndex = True\n",
    "considerBoundaryIntersection = True\n",
    "airports_rdd.buildIndex(IndexType.QUADTREE, buildOnSpatialPartitionedRDD)\n",
    "\n",
    "result_pair_rdd = JoinQueryRaw.SpatialJoinQueryFlat(airports_rdd, countries_rdd, usingIndex, considerBoundaryIntersection)\n",
    "\n",
    "result2 = Adapter.toDf(result_pair_rdd, countries_rdd.fieldNames, airports.fieldNames, sedona)\n",
    "\n",
    "result2.createOrReplaceTempView(\"join_result_with_all_cols\")\n",
    "# Select the columns needed in the join\n",
    "result2 = sedona.sql(\"SELECT leftgeometry as country_geom, NAME_EN, rightgeometry as airport_geom, name FROM join_result_with_all_cols\")"
   ]
  },
  {
   "cell_type": "markdown",
   "metadata": {},
   "source": [
    "## Print spatial join results"
   ]
  },
  {
   "cell_type": "code",
   "execution_count": 7,
   "metadata": {},
   "outputs": [
    {
     "name": "stderr",
     "output_type": "stream",
     "text": [
      "23/10/30 20:48:30 WARN JoinQuery: UseIndex is true, but no index exists. Will build index on the fly.\n"
     ]
    },
    {
     "name": "stdout",
     "output_type": "stream",
     "text": [
      "+--------------------+--------------------+--------------------+--------------------+\n",
      "|        country_geom|             NAME_EN|        airport_geom|                name|\n",
      "+--------------------+--------------------+--------------------+--------------------+\n",
      "|MULTIPOLYGON (((1...|Taiwan           ...|POINT (121.231370...|Taoyuan          ...|\n",
      "|MULTIPOLYGON (((5...|Netherlands      ...|POINT (4.76437693...|Schiphol         ...|\n",
      "|POLYGON ((103.969...|Singapore        ...|POINT (103.986413...|Singapore Changi ...|\n",
      "|MULTIPOLYGON (((-...|United Kingdom   ...|POINT (-0.4531566...|London Heathrow  ...|\n",
      "|MULTIPOLYGON (((-...|United States of ...|POINT (-149.98172...|Anchorage Int'l  ...|\n",
      "|MULTIPOLYGON (((-...|United States of ...|POINT (-84.425397...|Hartsfield-Jackso...|\n",
      "|MULTIPOLYGON (((1...|People's Republic...|POINT (116.588174...|Beijing Capital  ...|\n",
      "|MULTIPOLYGON (((-...|Colombia         ...|POINT (-74.143371...|Eldorado Int'l   ...|\n",
      "|MULTIPOLYGON (((6...|India            ...|POINT (72.8745639...|Chhatrapati Shiva...|\n",
      "|MULTIPOLYGON (((-...|United States of ...|POINT (-71.016406...|Gen E L Logan Int...|\n",
      "|MULTIPOLYGON (((-...|United States of ...|POINT (-76.668642...|Baltimore-Washing...|\n",
      "|POLYGON ((36.8713...|Egypt            ...|POINT (31.3997430...|Cairo Int'l      ...|\n",
      "|POLYGON ((-2.2196...|Morocco          ...|POINT (-7.6632188...|Casablanca-Anfa  ...|\n",
      "|MULTIPOLYGON (((-...|Venezuela        ...|POINT (-67.005748...|Simon Bolivar Int...|\n",
      "|MULTIPOLYGON (((2...|South Africa     ...|POINT (18.5976565...|Cape Town Int'l  ...|\n",
      "|MULTIPOLYGON (((1...|People's Republic...|POINT (103.956136...|Chengdushuang Liu...|\n",
      "|MULTIPOLYGON (((6...|India            ...|POINT (77.0878362...|Indira Gandhi Int...|\n",
      "|MULTIPOLYGON (((-...|United States of ...|POINT (-104.67379...|Denver Int'l     ...|\n",
      "|MULTIPOLYGON (((-...|United States of ...|POINT (-97.040371...|Dallas-Ft. Worth ...|\n",
      "|MULTIPOLYGON (((1...|Thailand         ...|POINT (100.602578...|Don Muang Int'l  ...|\n",
      "+--------------------+--------------------+--------------------+--------------------+\n",
      "only showing top 20 rows\n",
      "\n",
      "+--------------------+--------------------+--------------------+--------------------+\n",
      "|        country_geom|             NAME_EN|        airport_geom|                name|\n",
      "+--------------------+--------------------+--------------------+--------------------+\n",
      "|MULTIPOLYGON (((-...|United States of ...|POINT (-80.145258...|Fort Lauderdale H...|\n",
      "|MULTIPOLYGON (((-...|United States of ...|POINT (-80.278971...|Miami Int'l      ...|\n",
      "|MULTIPOLYGON (((-...|United States of ...|POINT (-95.333704...|George Bush Inter...|\n",
      "|MULTIPOLYGON (((-...|United States of ...|POINT (-90.256693...|New Orleans Int'l...|\n",
      "|MULTIPOLYGON (((-...|United States of ...|POINT (-81.307371...|Orlando Int'l    ...|\n",
      "|MULTIPOLYGON (((-...|United States of ...|POINT (-82.534824...|Tampa Int'l      ...|\n",
      "|MULTIPOLYGON (((-...|United States of ...|POINT (-112.01363...|Sky Harbor Int'l ...|\n",
      "|MULTIPOLYGON (((-...|United States of ...|POINT (-118.40246...|Los Angeles Int'l...|\n",
      "|MULTIPOLYGON (((-...|United States of ...|POINT (-116.97547...|General Abelardo ...|\n",
      "|MULTIPOLYGON (((-...|United States of ...|POINT (-97.040371...|Dallas-Ft. Worth ...|\n",
      "|MULTIPOLYGON (((-...|United States of ...|POINT (-84.425397...|Hartsfield-Jackso...|\n",
      "|POLYGON ((-69.965...|Peru             ...|POINT (-77.107565...|Jorge Chavez     ...|\n",
      "|MULTIPOLYGON (((-...|Panama           ...|POINT (-79.387134...|Tocumen Int'l    ...|\n",
      "|POLYGON ((-83.157...|Nicaragua        ...|POINT (-86.171284...|Augusto Cesar San...|\n",
      "|MULTIPOLYGON (((-...|Mexico           ...|POINT (-96.183570...|Gen. Heriberto Ja...|\n",
      "|MULTIPOLYGON (((-...|Mexico           ...|POINT (-106.27001...|General Rafael Bu...|\n",
      "|MULTIPOLYGON (((-...|Mexico           ...|POINT (-99.754508...|General Juan N Al...|\n",
      "|MULTIPOLYGON (((-...|Mexico           ...|POINT (-99.570649...|Jose Maria Morelo...|\n",
      "|MULTIPOLYGON (((-...|Mexico           ...|POINT (-98.375759...|Puebla           ...|\n",
      "|MULTIPOLYGON (((-...|Mexico           ...|POINT (-99.082607...|Lic Benito Juarez...|\n",
      "+--------------------+--------------------+--------------------+--------------------+\n",
      "only showing top 20 rows\n",
      "\n"
     ]
    }
   ],
   "source": [
    "# The result of SQL API\n",
    "result.show()\n",
    "# The result of RDD API\n",
    "result2.show()"
   ]
  },
  {
   "cell_type": "markdown",
   "metadata": {},
   "source": [
    "## Group airports by country"
   ]
  },
  {
   "cell_type": "code",
   "execution_count": 8,
   "metadata": {
    "scrolled": true
   },
   "outputs": [
    {
     "name": "stdout",
     "output_type": "stream",
     "text": [
      "+--------------------+--------------------+------------+\n",
      "|             NAME_EN|        country_geom|AirportCount|\n",
      "+--------------------+--------------------+------------+\n",
      "|Cuba             ...|MULTIPOLYGON (((-...|           1|\n",
      "|Mexico           ...|MULTIPOLYGON (((-...|          12|\n",
      "|Panama           ...|MULTIPOLYGON (((-...|           1|\n",
      "|Nicaragua        ...|POLYGON ((-83.157...|           1|\n",
      "|Honduras         ...|MULTIPOLYGON (((-...|           1|\n",
      "|Colombia         ...|MULTIPOLYGON (((-...|           4|\n",
      "|United States of ...|MULTIPOLYGON (((-...|          35|\n",
      "|Ecuador          ...|MULTIPOLYGON (((-...|           1|\n",
      "|The Bahamas      ...|MULTIPOLYGON (((-...|           1|\n",
      "|Peru             ...|POLYGON ((-69.965...|           1|\n",
      "|Guatemala        ...|POLYGON ((-92.235...|           1|\n",
      "|Canada           ...|MULTIPOLYGON (((-...|          15|\n",
      "|Venezuela        ...|MULTIPOLYGON (((-...|           3|\n",
      "|Argentina        ...|MULTIPOLYGON (((-...|           3|\n",
      "|Bolivia          ...|MULTIPOLYGON (((-...|           2|\n",
      "|Paraguay         ...|POLYGON ((-58.159...|           1|\n",
      "|Benin            ...|POLYGON ((1.62265...|           1|\n",
      "|Guinea           ...|POLYGON ((-10.283...|           1|\n",
      "|Chile            ...|MULTIPOLYGON (((-...|           5|\n",
      "|Nigeria          ...|MULTIPOLYGON (((7...|           3|\n",
      "+--------------------+--------------------+------------+\n",
      "only showing top 20 rows\n",
      "\n"
     ]
    }
   ],
   "source": [
    "# result.createOrReplaceTempView(\"result\")\n",
    "result2.createOrReplaceTempView(\"result\")\n",
    "groupedresult = sedona.sql(\"SELECT c.NAME_EN, c.country_geom, count(*) as AirportCount FROM result c GROUP BY c.NAME_EN, c.country_geom\")\n",
    "groupedresult.show()\n",
    "groupedresult.createOrReplaceTempView(\"grouped_result\")"
   ]
  },
  {
   "cell_type": "markdown",
   "metadata": {},
   "source": [
    "## Visualize the number of airports in each country"
   ]
  },
  {
   "cell_type": "code",
   "execution_count": 9,
   "metadata": {},
   "outputs": [
    {
     "name": "stdout",
     "output_type": "stream",
     "text": [
      "User Guide: https://docs.kepler.gl/docs/keplergl-jupyter\n"
     ]
    },
    {
     "data": {
      "application/vnd.jupyter.widget-view+json": {
       "model_id": "a4225c4a1d104a63a852c60c24dde5ee",
       "version_major": 2,
       "version_minor": 0
      },
      "text/plain": [
       "KeplerGl(config={'version': 'v1', 'config': {'visState': {'filters': [], 'layers': [{'id': 'ikzru0t', 'type': …"
      ]
     },
     "metadata": {},
     "output_type": "display_data"
    }
   ],
   "source": [
    "sedona_kepler_map = SedonaKepler.create_map(df=groupedresult, name=\"AirportCount\", config=getConfig())\n",
    "sedona_kepler_map"
   ]
  },
  {
   "cell_type": "markdown",
   "metadata": {},
   "source": [
    "## Visualize Uber H3 cells using SedonaKepler\n",
    "The following tutorial depicts how Uber H3 cells can be generated using Sedona and visualized using SedonaKepler."
   ]
  },
  {
   "cell_type": "markdown",
   "metadata": {},
   "source": [
    "### Generate H3 cell IDs\n",
    "[ST_H3CellIDs](https://sedona.apache.org/1.5.0/api/flink/Function/#st_h3cellids) can be used to generated cell IDs for given geometries"
   ]
  },
  {
   "cell_type": "code",
   "execution_count": 10,
   "metadata": {
    "tags": []
   },
   "outputs": [
    {
     "name": "stdout",
     "output_type": "stream",
     "text": [
      "+--------------------+--------------------+--------------------+\n",
      "|             NAME_EN|        country_geom|           h3_cellID|\n",
      "+--------------------+--------------------+--------------------+\n",
      "|Cuba             ...|MULTIPOLYGON (((-...|[5911955825051566...|\n",
      "|Mexico           ...|MULTIPOLYGON (((-...|[5918915733655388...|\n",
      "+--------------------+--------------------+--------------------+\n",
      "only showing top 2 rows\n",
      "\n"
     ]
    }
   ],
   "source": [
    "h3_df = sedona.sql(\"SELECT g.NAME_EN, g.country_geom, ST_H3CellIDs(g.country_geom, 3, false) as h3_cellID from grouped_result g\")\n",
    "h3_df.show(2)"
   ]
  },
  {
   "cell_type": "markdown",
   "metadata": {},
   "source": [
    "### Since each geometry can have multiple H3 cell IDs, let's explode the generated H3 cell ID array to get individual cells"
   ]
  },
  {
   "cell_type": "code",
   "execution_count": 11,
   "metadata": {
    "tags": []
   },
   "outputs": [
    {
     "name": "stderr",
     "output_type": "stream",
     "text": [
      "[Stage 41:=================================================>        (6 + 1) / 7]\r"
     ]
    },
    {
     "name": "stdout",
     "output_type": "stream",
     "text": [
      "+--------------------+--------------------+------------------+\n",
      "|             NAME_EN|        country_geom|                h3|\n",
      "+--------------------+--------------------+------------------+\n",
      "|Cuba             ...|MULTIPOLYGON (((-...|591195582505156607|\n",
      "|Cuba             ...|MULTIPOLYGON (((-...|591195513785679871|\n",
      "+--------------------+--------------------+------------------+\n",
      "only showing top 2 rows\n",
      "\n"
     ]
    },
    {
     "name": "stderr",
     "output_type": "stream",
     "text": [
      "                                                                                \r"
     ]
    }
   ],
   "source": [
    "exploded_h3 = h3_df.select(h3_df.NAME_EN, h3_df.country_geom, explode(h3_df.h3_cellID).alias(\"h3\"))\n",
    "exploded_h3.show(2)"
   ]
  },
  {
   "cell_type": "markdown",
   "metadata": {},
   "source": [
    "### Convert generated long H3 cell ID to a hex cell ID\n",
    "SedonaKepler accepts each H3 cell ID as a hexadecimal to automatically visualize them. Also, let us sample the data to be able to visualize sparse cells on the map."
   ]
  },
  {
   "cell_type": "code",
   "execution_count": 12,
   "metadata": {
    "tags": []
   },
   "outputs": [
    {
     "name": "stderr",
     "output_type": "stream",
     "text": [
      "[Stage 48:=================================================>        (6 + 1) / 7]\r"
     ]
    },
    {
     "name": "stdout",
     "output_type": "stream",
     "text": [
      "+--------------------+---------------+\n",
      "|             NAME_EN|          ex_h3|\n",
      "+--------------------+---------------+\n",
      "|Cuba             ...|83458EFFFFFFFFF|\n",
      "|Cuba             ...|834590FFFFFFFFF|\n",
      "+--------------------+---------------+\n",
      "only showing top 2 rows\n",
      "\n"
     ]
    },
    {
     "name": "stderr",
     "output_type": "stream",
     "text": [
      "                                                                                \r"
     ]
    }
   ],
   "source": [
    "exploded_h3 = exploded_h3.sample(0.3)\n",
    "exploded_h3.createOrReplaceTempView(\"exploded_h3\")\n",
    "hex_exploded_h3 = exploded_h3.select(exploded_h3.NAME_EN, hex(exploded_h3.h3).alias(\"ex_h3\"))\n",
    "hex_exploded_h3.show(2)"
   ]
  },
  {
   "cell_type": "markdown",
   "metadata": {},
   "source": [
    "### Visualize using SedonaKepler\n",
    "Now, simply provide the final df to SedonaKepler.create_map and you can automagically visualize the H3 cells on the map!"
   ]
  },
  {
   "cell_type": "code",
   "execution_count": 13,
   "metadata": {
    "tags": []
   },
   "outputs": [
    {
     "name": "stdout",
     "output_type": "stream",
     "text": [
      "User Guide: https://docs.kepler.gl/docs/keplergl-jupyter\n"
     ]
    },
    {
     "name": "stderr",
     "output_type": "stream",
     "text": [
      "                                                                                \r"
     ]
    },
    {
     "data": {
      "application/vnd.jupyter.widget-view+json": {
       "model_id": "92e221e5c4b24e7ea9072fe0d591b53b",
       "version_major": 2,
       "version_minor": 0
      },
      "text/plain": [
       "KeplerGl(data={'h3': {'index': [0, 1, 2, 3, 4, 5, 6, 7, 8, 9, 10, 11, 12, 13, 14, 15, 16, 17, 18, 19, 20, 21, …"
      ]
     },
     "metadata": {},
     "output_type": "display_data"
    }
   ],
   "source": [
    "sedona_kepler_h3 = SedonaKepler.create_map(df=hex_exploded_h3, name=\"h3\")\n",
    "sedona_kepler_h3"
   ]
  },
  {
   "cell_type": "code",
   "execution_count": null,
   "metadata": {},
   "outputs": [],
   "source": []
  }
 ],
 "metadata": {
  "kernelspec": {
   "display_name": "apache-sedona",
   "language": "python",
   "name": "apache-sedona"
  },
  "language_info": {
   "codemirror_mode": {
    "name": "ipython",
    "version": 3
   },
   "file_extension": ".py",
   "mimetype": "text/x-python",
   "name": "python",
   "nbconvert_exporter": "python",
   "pygments_lexer": "ipython3",
   "version": "3.9.6"
  }
 },
 "nbformat": 4,
 "nbformat_minor": 4
}
