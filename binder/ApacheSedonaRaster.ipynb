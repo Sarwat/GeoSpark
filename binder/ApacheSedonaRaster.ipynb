{
 "cells": [
  {
   "cell_type": "markdown",
   "metadata": {},
   "source": [
    "```\n",
    "Licensed to the Apache Software Foundation (ASF) under one\n",
    "or more contributor license agreements.  See the NOTICE file\n",
    "distributed with this work for additional information\n",
    "regarding copyright ownership.  The ASF licenses this file\n",
    "to you under the Apache License, Version 2.0 (the\n",
    "\"License\"); you may not use this file except in compliance\n",
    "with the License.  You may obtain a copy of the License at\n",
    "  http://www.apache.org/licenses/LICENSE-2.0\n",
    "Unless required by applicable law or agreed to in writing,\n",
    "software distributed under the License is distributed on an\n",
    "\"AS IS\" BASIS, WITHOUT WARRANTIES OR CONDITIONS OF ANY\n",
    "KIND, either express or implied.  See the License for the\n",
    "specific language governing permissions and limitations\n",
    "under the License.\n",
    "```"
   ]
  },
  {
   "cell_type": "code",
   "execution_count": 1,
   "metadata": {},
   "outputs": [],
   "source": [
    "from IPython.display import display, HTML\n",
    "from pyspark.sql import SparkSession\n",
    "from pyspark import StorageLevel\n",
    "import pandas as pd\n",
    "from pyspark.sql.types import StructType, StructField,StringType, LongType, IntegerType, DoubleType, ArrayType\n",
    "from pyspark.sql.functions import regexp_replace\n",
    "from pyspark.sql.functions import col, split, expr\n",
    "from pyspark.sql.functions import udf, lit\n",
    "from sedona.spark import *\n",
    "from pyspark.sql.functions import col, split, expr\n",
    "from pyspark.sql.functions import udf, lit\n",
    "import os\n"
   ]
  },
  {
   "cell_type": "markdown",
   "metadata": {},
   "source": [
    "# Create Spark Session for application"
   ]
  },
  {
   "cell_type": "code",
   "execution_count": 2,
   "metadata": {},
   "outputs": [
    {
     "name": "stdout",
     "output_type": "stream",
     "text": [
      ":: loading settings :: url = jar:file:/Users/nileshgajwani/Desktop/spark/spark-3.4.0-bin-hadoop3/jars/ivy-2.5.1.jar!/org/apache/ivy/core/settings/ivysettings.xml\n"
     ]
    },
    {
     "name": "stderr",
     "output_type": "stream",
     "text": [
      "Ivy Default Cache set to: /Users/nileshgajwani/.ivy2/cache\n",
      "The jars for the packages stored in: /Users/nileshgajwani/.ivy2/jars\n",
      "org.apache.sedona#sedona-spark-shaded-3.0_2.12 added as a dependency\n",
      "org.datasyslab#geotools-wrapper added as a dependency\n",
      ":: resolving dependencies :: org.apache.spark#spark-submit-parent-f6cc1c05-35e7-48b0-8060-745906834ca0;1.0\n",
      "\tconfs: [default]\n",
      "\tfound org.apache.sedona#sedona-spark-shaded-3.0_2.12;1.4.1 in central\n",
      "\tfound org.datasyslab#geotools-wrapper;1.4.0-28.2 in central\n",
      ":: resolution report :: resolve 79ms :: artifacts dl 2ms\n",
      "\t:: modules in use:\n",
      "\torg.apache.sedona#sedona-spark-shaded-3.0_2.12;1.4.1 from central in [default]\n",
      "\torg.datasyslab#geotools-wrapper;1.4.0-28.2 from central in [default]\n",
      "\t---------------------------------------------------------------------\n",
      "\t|                  |            modules            ||   artifacts   |\n",
      "\t|       conf       | number| search|dwnlded|evicted|| number|dwnlded|\n",
      "\t---------------------------------------------------------------------\n",
      "\t|      default     |   2   |   0   |   0   |   0   ||   2   |   0   |\n",
      "\t---------------------------------------------------------------------\n",
      ":: retrieving :: org.apache.spark#spark-submit-parent-f6cc1c05-35e7-48b0-8060-745906834ca0\n",
      "\tconfs: [default]\n",
      "\t0 artifacts copied, 2 already retrieved (0kB/3ms)\n",
      "23/06/30 14:06:36 WARN NativeCodeLoader: Unable to load native-hadoop library for your platform... using builtin-java classes where applicable\n",
      "Setting default log level to \"WARN\".\n",
      "To adjust logging level use sc.setLogLevel(newLevel). For SparkR, use setLogLevel(newLevel).\n"
     ]
    }
   ],
   "source": [
    "config = SedonaContext.builder() .\\\n",
    "    config('spark.jars.packages',\n",
    "           'org.apache.sedona:sedona-spark-shaded-3.0_2.12:1.4.1,'\n",
    "           'org.datasyslab:geotools-wrapper:1.4.0-28.2'). \\\n",
    "    getOrCreate()\n",
    "\n",
    "sedona = SedonaContext.create(config)\n",
    "\n",
    "sc = sedona.sparkContext\n"
   ]
  },
  {
   "cell_type": "markdown",
   "metadata": {},
   "source": [
    "# Geotiff Loader \n",
    "\n",
    "1. Loader takes as input a path to directory which contains geotiff files or a path to particular geotiff file\n",
    "2. Loader will read geotiff image in a struct named image which contains multiple fields as shown in the schema below which can be extracted using spark SQL"
   ]
  },
  {
   "cell_type": "code",
   "execution_count": 3,
   "metadata": {},
   "outputs": [],
   "source": [
    "# Path to directory of geotiff images \n",
    "DATA_DIR = \"./data/raster/\""
   ]
  },
  {
   "cell_type": "code",
   "execution_count": 5,
   "metadata": {
    "scrolled": true
   },
   "outputs": [
    {
     "name": "stdout",
     "output_type": "stream",
     "text": [
      "root\n",
      " |-- image: struct (nullable = true)\n",
      " |    |-- origin: string (nullable = true)\n",
      " |    |-- geometry: string (nullable = true)\n",
      " |    |-- height: integer (nullable = true)\n",
      " |    |-- width: integer (nullable = true)\n",
      " |    |-- nBands: integer (nullable = true)\n",
      " |    |-- data: array (nullable = true)\n",
      " |    |    |-- element: double (containsNull = true)\n",
      "\n"
     ]
    }
   ],
   "source": [
    "df = sedona.read.format(\"geotiff\").option(\"dropInvalid\",True).option(\"readToCRS\", \"EPSG:4326\").option(\"disableErrorInCRS\", False).load(DATA_DIR)\n",
    "df.printSchema()"
   ]
  },
  {
   "cell_type": "code",
   "execution_count": 6,
   "metadata": {},
   "outputs": [
    {
     "name": "stderr",
     "output_type": "stream",
     "text": [
      "\r",
      "[Stage 3:>                                                          (0 + 1) / 1]\r"
     ]
    },
    {
     "name": "stdout",
     "output_type": "stream",
     "text": [
      "+--------------------+--------------------+------+-----+--------------------+-----+\n",
      "|              origin|                Geom|height|width|                data|bands|\n",
      "+--------------------+--------------------+------+-----+--------------------+-----+\n",
      "|file:/Users/niles...|POLYGON ((-58.702...|    32|   32|[1081.0, 1068.0, ...|    4|\n",
      "|file:/Users/niles...|POLYGON ((-58.286...|    32|   32|[1151.0, 1141.0, ...|    4|\n",
      "+--------------------+--------------------+------+-----+--------------------+-----+\n",
      "\n"
     ]
    },
    {
     "name": "stderr",
     "output_type": "stream",
     "text": [
      "\r",
      "                                                                                \r"
     ]
    }
   ],
   "source": [
    "df = df.selectExpr(\"image.origin as origin\",\"ST_GeomFromWkt(image.geometry) as Geom\", \"image.height as height\", \"image.width as width\", \"image.data as data\", \"image.nBands as bands\")\n",
    "df.show(5)"
   ]
  },
  {
   "cell_type": "markdown",
   "metadata": {},
   "source": [
    "# Extract a particular band from geotiff dataframe using RS_GetBand()\n"
   ]
  },
  {
   "cell_type": "code",
   "execution_count": 7,
   "metadata": {},
   "outputs": [
    {
     "name": "stdout",
     "output_type": "stream",
     "text": [
      "+--------------------+--------------------+--------------------+--------------------+--------------------+\n",
      "|                Geom|               Band1|               Band2|               Band3|               Band4|\n",
      "+--------------------+--------------------+--------------------+--------------------+--------------------+\n",
      "|POLYGON ((-58.702...|[1081.0, 1068.0, ...|[909.0, 909.0, 82...|[677.0, 660.0, 66...|[654.0, 652.0, 66...|\n",
      "|POLYGON ((-58.286...|[1151.0, 1141.0, ...|[894.0, 956.0, 10...|[751.0, 802.0, 87...|[0.0, 0.0, 0.0, 0...|\n",
      "+--------------------+--------------------+--------------------+--------------------+--------------------+\n",
      "\n"
     ]
    }
   ],
   "source": [
    "'''RS_GetBand() will fetch a particular band from given data array which is the concatenation of all the bands'''\n",
    "\n",
    "df = df.selectExpr(\"Geom\",\"RS_GetBand(data, 1,bands) as Band1\",\"RS_GetBand(data, 2,bands) as Band2\",\"RS_GetBand(data, 3,bands) as Band3\", \"RS_GetBand(data, 4,bands) as Band4\")\n",
    "df.createOrReplaceTempView(\"allbands\")\n",
    "df.show(5)"
   ]
  },
  {
   "cell_type": "markdown",
   "metadata": {},
   "source": [
    "# Map Algebra operations on band values"
   ]
  },
  {
   "cell_type": "code",
   "execution_count": 8,
   "metadata": {},
   "outputs": [
    {
     "name": "stdout",
     "output_type": "stream",
     "text": [
      "+--------------------+\n",
      "|            normDiff|\n",
      "+--------------------+\n",
      "|[-0.09, -0.08, -0...|\n",
      "|[-0.13, -0.09, -0...|\n",
      "+--------------------+\n",
      "\n"
     ]
    }
   ],
   "source": [
    "'''RS_NormalizedDifference can be used to calculate NDVI for a particular geotiff image since it uses same computational formula as ndvi'''\n",
    "\n",
    "NomalizedDifference = df.selectExpr(\"RS_NormalizedDifference(Band1, Band2) as normDiff\")\n",
    "NomalizedDifference.show(5)"
   ]
  },
  {
   "cell_type": "code",
   "execution_count": 9,
   "metadata": {},
   "outputs": [
    {
     "name": "stdout",
     "output_type": "stream",
     "text": [
      "+-------+\n",
      "|   mean|\n",
      "+-------+\n",
      "|1153.85|\n",
      "|1293.77|\n",
      "+-------+\n",
      "\n"
     ]
    }
   ],
   "source": [
    "'''RS_Mean() can used to calculate mean of piel values in a particular spatial band'''\n",
    "meanDF = df.selectExpr(\"RS_Mean(Band1) as mean\")\n",
    "meanDF.show(5)"
   ]
  },
  {
   "cell_type": "code",
   "execution_count": 10,
   "metadata": {},
   "outputs": [
    {
     "name": "stdout",
     "output_type": "stream",
     "text": [
      "+----------------+\n",
      "|            mode|\n",
      "+----------------+\n",
      "| [1011.0, 927.0]|\n",
      "|[1176.0, 1230.0]|\n",
      "+----------------+\n",
      "\n"
     ]
    }
   ],
   "source": [
    "\"\"\" RS_Mode() is used to calculate mode in an array of pixels and returns a array of double with size 1 in case of unique mode\"\"\"\n",
    "modeDF = df.selectExpr(\"RS_Mode(Band1) as mode\")\n",
    "modeDF.show(5)"
   ]
  },
  {
   "cell_type": "code",
   "execution_count": 11,
   "metadata": {},
   "outputs": [
    {
     "name": "stdout",
     "output_type": "stream",
     "text": [
      "+--------------------+\n",
      "|         greaterthan|\n",
      "+--------------------+\n",
      "|[1.0, 1.0, 1.0, 0...|\n",
      "|[1.0, 1.0, 1.0, 1...|\n",
      "+--------------------+\n",
      "\n"
     ]
    }
   ],
   "source": [
    "'''RS_GreaterThan() is used to mask all the values with 1 which are greater than a particular threshold'''\n",
    "greaterthanDF = sedona.sql(\"Select RS_GreaterThan(Band1,1000.0) as greaterthan from allbands\")\n",
    "greaterthanDF.show()"
   ]
  },
  {
   "cell_type": "code",
   "execution_count": 12,
   "metadata": {},
   "outputs": [
    {
     "name": "stdout",
     "output_type": "stream",
     "text": [
      "+--------------------+\n",
      "|    greaterthanEqual|\n",
      "+--------------------+\n",
      "|[1.0, 1.0, 1.0, 1...|\n",
      "|[1.0, 1.0, 1.0, 1...|\n",
      "+--------------------+\n",
      "\n"
     ]
    }
   ],
   "source": [
    "'''RS_GreaterThanEqual() is used to mask all the values with 1 which are greater than a particular threshold'''\n",
    "\n",
    "greaterthanEqualDF = sedona.sql(\"Select RS_GreaterThanEqual(Band1,360.0) as greaterthanEqual from allbands\")\n",
    "greaterthanEqualDF.show()"
   ]
  },
  {
   "cell_type": "code",
   "execution_count": 14,
   "metadata": {},
   "outputs": [
    {
     "name": "stdout",
     "output_type": "stream",
     "text": [
      "+--------------------+\n",
      "|            lessthan|\n",
      "+--------------------+\n",
      "|[0.0, 0.0, 0.0, 1...|\n",
      "|[0.0, 0.0, 0.0, 0...|\n",
      "+--------------------+\n",
      "\n"
     ]
    }
   ],
   "source": [
    "'''RS_LessThan() is used to mask all the values with 1 which are less than a particular threshold'''\n",
    "lessthanDF = sedona.sql(\"Select RS_LessThan(Band1,1000.0) as lessthan from allbands\")\n",
    "lessthanDF.show()"
   ]
  },
  {
   "cell_type": "code",
   "execution_count": 15,
   "metadata": {},
   "outputs": [
    {
     "name": "stdout",
     "output_type": "stream",
     "text": [
      "+--------------------+\n",
      "|       lessthanequal|\n",
      "+--------------------+\n",
      "|[1.0, 1.0, 1.0, 1...|\n",
      "|[1.0, 1.0, 1.0, 1...|\n",
      "+--------------------+\n",
      "\n"
     ]
    }
   ],
   "source": [
    "'''RS_LessThanEqual() is used to mask all the values with 1 which are less than equal to a particular threshold'''\n",
    "lessthanEqualDF = sedona.sql(\"Select RS_LessThanEqual(Band1,2890.0) as lessthanequal from allbands\")\n",
    "lessthanEqualDF.show()"
   ]
  },
  {
   "cell_type": "code",
   "execution_count": 16,
   "metadata": {},
   "outputs": [
    {
     "name": "stdout",
     "output_type": "stream",
     "text": [
      "+--------------------+\n",
      "|           sumOfBand|\n",
      "+--------------------+\n",
      "|[1990.0, 1977.0, ...|\n",
      "|[2045.0, 2097.0, ...|\n",
      "+--------------------+\n",
      "\n"
     ]
    }
   ],
   "source": [
    "'''RS_Add() can add two spatial bands together'''\n",
    "sumDF = df.selectExpr(\"RS_Add(Band1, Band2) as sumOfBand\")\n",
    "sumDF.show(5)"
   ]
  },
  {
   "cell_type": "code",
   "execution_count": 17,
   "metadata": {},
   "outputs": [
    {
     "name": "stdout",
     "output_type": "stream",
     "text": [
      "+--------------------+\n",
      "|          diffOfBand|\n",
      "+--------------------+\n",
      "|[-172.0, -159.0, ...|\n",
      "|[-257.0, -185.0, ...|\n",
      "+--------------------+\n",
      "\n"
     ]
    }
   ],
   "source": [
    "'''RS_Subtract() can subtract two spatial bands together'''\n",
    "subtractDF = df.selectExpr(\"RS_Subtract(Band1, Band2) as diffOfBand\")\n",
    "subtractDF.show(5)"
   ]
  },
  {
   "cell_type": "code",
   "execution_count": 18,
   "metadata": {},
   "outputs": [
    {
     "name": "stdout",
     "output_type": "stream",
     "text": [
      "+--------------------+\n",
      "|       productOfBand|\n",
      "+--------------------+\n",
      "|[982629.0, 970812...|\n",
      "|[1028994.0, 10907...|\n",
      "+--------------------+\n",
      "\n"
     ]
    }
   ],
   "source": [
    "'''RS_Multiply() can multiple two bands together'''\n",
    "multiplyDF = df.selectExpr(\"RS_Multiply(Band1, Band2) as productOfBand\")\n",
    "multiplyDF.show(5)"
   ]
  },
  {
   "cell_type": "code",
   "execution_count": 19,
   "metadata": {},
   "outputs": [
    {
     "name": "stdout",
     "output_type": "stream",
     "text": [
      "+--------------------+\n",
      "|      divisionOfBand|\n",
      "+--------------------+\n",
      "|[1.19, 1.17, 1.25...|\n",
      "|[1.29, 1.19, 1.19...|\n",
      "+--------------------+\n",
      "\n"
     ]
    }
   ],
   "source": [
    "'''RS_Divide() can divide two bands together'''\n",
    "divideDF = df.selectExpr(\"RS_Divide(Band1, Band2) as divisionOfBand\")\n",
    "divideDF.show(5)"
   ]
  },
  {
   "cell_type": "code",
   "execution_count": 20,
   "metadata": {},
   "outputs": [
    {
     "name": "stdout",
     "output_type": "stream",
     "text": [
      "+--------------------+\n",
      "|              target|\n",
      "+--------------------+\n",
      "|[1818.0, 1818.0, ...|\n",
      "|[1788.0, 1912.0, ...|\n",
      "+--------------------+\n",
      "\n"
     ]
    }
   ],
   "source": [
    "'''RS_MultiplyFactor() will multiply a factor to a spatial band'''\n",
    "mulfacDF = df.selectExpr(\"RS_MultiplyFactor(Band2, 2) as target\")\n",
    "mulfacDF.show(5)"
   ]
  },
  {
   "cell_type": "code",
   "execution_count": 21,
   "metadata": {},
   "outputs": [
    {
     "name": "stdout",
     "output_type": "stream",
     "text": [
      "+--------------------+\n",
      "|                 AND|\n",
      "+--------------------+\n",
      "|[9.0, 12.0, 2.0, ...|\n",
      "|[126.0, 52.0, 102...|\n",
      "+--------------------+\n",
      "\n"
     ]
    }
   ],
   "source": [
    "'''RS_BitwiseAND() will return AND between two values of Bands'''\n",
    "bitwiseAND = df.selectExpr(\"RS_BitwiseAND(Band1, Band2) as AND\")\n",
    "bitwiseAND.show(5)"
   ]
  },
  {
   "cell_type": "code",
   "execution_count": 22,
   "metadata": {},
   "outputs": [
    {
     "name": "stdout",
     "output_type": "stream",
     "text": [
      "+--------------------+\n",
      "|                  OR|\n",
      "+--------------------+\n",
      "|[1981.0, 1965.0, ...|\n",
      "|[1919.0, 2045.0, ...|\n",
      "+--------------------+\n",
      "\n"
     ]
    }
   ],
   "source": [
    "'''RS_BitwiseOR() will return OR between two values of Bands'''\n",
    "bitwiseOR = df.selectExpr(\"RS_BitwiseOR(Band1, Band2) as OR\")\n",
    "bitwiseOR.show(5)"
   ]
  },
  {
   "cell_type": "code",
   "execution_count": 23,
   "metadata": {},
   "outputs": [
    {
     "name": "stdout",
     "output_type": "stream",
     "text": [
      "+-----+\n",
      "|count|\n",
      "+-----+\n",
      "|  753|\n",
      "| 1017|\n",
      "+-----+\n",
      "\n"
     ]
    }
   ],
   "source": [
    "'''RS_Count() will calculate the total number of occurrence of a target value'''\n",
    "countDF = df.selectExpr(\"RS_Count(RS_GreaterThan(Band1,1000.0), 1.0) as count\")\n",
    "countDF.show(5)"
   ]
  },
  {
   "cell_type": "code",
   "execution_count": 24,
   "metadata": {},
   "outputs": [
    {
     "name": "stdout",
     "output_type": "stream",
     "text": [
      "+--------------------+\n",
      "|              modulo|\n",
      "+--------------------+\n",
      "|[10.0, 18.0, 18.0...|\n",
      "|[17.0, 7.0, 2.0, ...|\n",
      "+--------------------+\n",
      "\n"
     ]
    }
   ],
   "source": [
    "'''RS_Modulo() will calculate the modulus of band value with respect to a given number'''\n",
    "moduloDF = df.selectExpr(\"RS_Modulo(Band1, 21.0) as modulo \")\n",
    "moduloDF.show(5)"
   ]
  },
  {
   "cell_type": "code",
   "execution_count": 25,
   "metadata": {},
   "outputs": [
    {
     "name": "stdout",
     "output_type": "stream",
     "text": [
      "+--------------------+\n",
      "|                root|\n",
      "+--------------------+\n",
      "|[32.88, 32.68, 32...|\n",
      "|[33.93, 33.78, 35...|\n",
      "+--------------------+\n",
      "\n"
     ]
    }
   ],
   "source": [
    "'''RS_SquareRoot() will calculate calculate square root of all the band values up to two decimal places'''\n",
    "rootDF = df.selectExpr(\"RS_SquareRoot(Band1) as root\")\n",
    "rootDF.show(5)\n"
   ]
  },
  {
   "cell_type": "code",
   "execution_count": 26,
   "metadata": {},
   "outputs": [
    {
     "name": "stdout",
     "output_type": "stream",
     "text": [
      "+--------------------+\n",
      "|      loggDifference|\n",
      "+--------------------+\n",
      "|[1081.0, 1068.0, ...|\n",
      "|[1151.0, 1141.0, ...|\n",
      "+--------------------+\n",
      "\n"
     ]
    }
   ],
   "source": [
    "'''RS_LogicalDifference() will return value from band1 if value at that particular location is not equal tp band1 else it will return 0'''\n",
    "logDiff = df.selectExpr(\"RS_LogicalDifference(Band1, Band2) as loggDifference\")\n",
    "logDiff.show(5)"
   ]
  },
  {
   "cell_type": "code",
   "execution_count": 27,
   "metadata": {},
   "outputs": [
    {
     "name": "stdout",
     "output_type": "stream",
     "text": [
      "+--------------------+\n",
      "|         logicalOver|\n",
      "+--------------------+\n",
      "|[677.0, 660.0, 66...|\n",
      "|[751.0, 802.0, 87...|\n",
      "+--------------------+\n",
      "\n"
     ]
    }
   ],
   "source": [
    "'''RS_LogicalOver() will iterate over two bands and return value of first band if it is not equal to 0 else it will return value from later band'''\n",
    "logOver = df.selectExpr(\"RS_LogicalOver(Band3, Band2) as logicalOver\")\n",
    "logOver.show(5)"
   ]
  },
  {
   "cell_type": "markdown",
   "metadata": {},
   "source": [
    "# Visualising Geotiff Images\n",
    "\n",
    "1. Normalize the bands in range [0-255] if values are greater than 255\n",
    "2. Process image using RS_Base64() which converts in into a base64 string\n",
    "3. Embed results of RS_Base64() in RS_HTML() to embed into IPython notebook\n",
    "4. Process results of RS_HTML() as below:"
   ]
  },
  {
   "cell_type": "code",
   "execution_count": 29,
   "metadata": {},
   "outputs": [
    {
     "name": "stdout",
     "output_type": "stream",
     "text": [
      "+--------------------+--------------------+--------------------+--------------------+--------------------+\n",
      "|                Geom|             RedBand|            BlueBand|           GreenBand|        CombinedBand|\n",
      "+--------------------+--------------------+--------------------+--------------------+--------------------+\n",
      "|POLYGON ((-58.702...|<img src=\"data:im...|<img src=\"data:im...|<img src=\"data:im...|<img src=\"data:im...|\n",
      "|POLYGON ((-58.286...|<img src=\"data:im...|<img src=\"data:im...|<img src=\"data:im...|<img src=\"data:im...|\n",
      "+--------------------+--------------------+--------------------+--------------------+--------------------+\n",
      "\n"
     ]
    }
   ],
   "source": [
    "'''Plotting images as a dataframe using geotiff Dataframe.'''\n",
    "\n",
    "df = sedona.read.format(\"geotiff\").option(\"dropInvalid\",True).option(\"readToCRS\", \"EPSG:4326\").load(DATA_DIR)\n",
    "df = df.selectExpr(\"image.origin as origin\",\"ST_GeomFromWkt(image.geometry) as Geom\", \"image.height as height\", \"image.width as width\", \"image.data as data\", \"image.nBands as bands\")\n",
    "\n",
    "df = df.selectExpr(\"RS_GetBand(data,1,bands) as targetband\", \"height\", \"width\", \"bands\", \"Geom\")\n",
    "df_base64 = df.selectExpr(\"Geom\", \"RS_Base64(height,width,RS_Normalize(targetBand), RS_Array(height*width,0.0), RS_Array(height*width, 0.0)) as red\",\"RS_Base64(height,width,RS_Array(height*width, 0.0), RS_Normalize(targetBand), RS_Array(height*width, 0.0)) as green\", \"RS_Base64(height,width,RS_Array(height*width, 0.0),  RS_Array(height*width, 0.0), RS_Normalize(targetBand)) as blue\",\"RS_Base64(height,width,RS_Normalize(targetBand), RS_Normalize(targetBand),RS_Normalize(targetBand)) as RGB\" )\n",
    "df_HTML = df_base64.selectExpr(\"Geom\",\"RS_HTML(red) as RedBand\",\"RS_HTML(blue) as BlueBand\",\"RS_HTML(green) as GreenBand\", \"RS_HTML(RGB) as CombinedBand\")\n",
    "df_HTML.show(5)"
   ]
  },
  {
   "cell_type": "code",
   "execution_count": 30,
   "metadata": {},
   "outputs": [
    {
     "data": {
      "text/html": [
       "<table border=\"1\" class=\"dataframe\">\n",
       "  <thead>\n",
       "    <tr style=\"text-align: right;\">\n",
       "      <th></th>\n",
       "      <th>Geom</th>\n",
       "      <th>RedBand</th>\n",
       "      <th>BlueBand</th>\n",
       "      <th>GreenBand</th>\n",
       "      <th>CombinedBand</th>\n",
       "    </tr>\n",
       "  </thead>\n",
       "  <tbody>\n",
       "    <tr>\n",
       "      <th>0</th>\n",
       "      <td>POLYGON ((-58.70271939504447 -34.418775445554786, -58.702776058228636 -34.421569880680615, -58.6994039180242 -34.42161679331493, -58.69934736692278 -34.4188223533111, -58.70271939504447 -34.418775445554786))</td>\n",
       "      <td><img src=\"data:image/png;base64,iVBORw0KGgoAAAANSUhEUgAAACAAAAAgCAYAAABzenr0AAAFhklEQVR4Xk3W1wpdVRAG4HlNa+yxx240xh57bzExSmKJRlBBsIEXRvFOCYov4BMIXokIcb496+ecizlr77VnzfzzT1mn7qi6eKjllpbrWm5e68H1fGPLtUvn3pYnW15qeb3lxZabWj5v+bPls5a715krauyQq1tuWCth2/71LXVP/zxQY9zho7Vz/FCL71fVAHhq6X7Z8k7L2ZbDS062vNfybI3hy2uAkyuXcM6W1T7wJZL7a+f0thogdy7xTtHzIy1PtzzccmQ9P17j9IuWf1t+W/oHlnCMDY69W+153hh4rIZ+hj5uOVbjTFQB8eBaOaWXlGHnmZY3Wn5s+XutgsEogOhOxFjhPCswJXoGrd/VGBT1yzVGKJ6ucSJywJ6oScdraxXEczVARXV7DVDs0sdIIscGAGqAvRLVfTW5V2B31USGVitQ/7V8XWNMXcSpWlCIHNLFikgF4J1IZxi7pgagfWDZK3T5iAHCwSs19Inq15ZfapyKHNDjNREyIEqpo48xAHQWxyqfbbWT9wRnj/2iQKAUvYjer3GGkdSC1FjR+WYN/dhjxHPAcUKwQpc8XwMYayJ3/txaS5EAwDgAntMJxHe0QczArUswok4YF7n2tAcQYUPedZagBJA6wRrQmCvFQAli6YgDz5wzlPZMu8qlovygxri0oZ1Re2aEPdELAnh1BiSW2LFvbpSoOZI7iB1K8UAIOR20hiGCDanS/1IlhSITJSbQ+0Lt8s9Hotfq9AVdHCdvGTgZu2dqUDOABVGKgAGG3m75vsapetBWwMg3YL+3fLre6QgGQ9LGxzYJTaS0h4JLtD5yKlLUitq+VDiM5p9bvq2pBamQFhWOAd+/WmfRjxFsvLre+WO//ADAsUsFTRyJWkRx6IB3+0nBN7VjCQCtmLsFkyjGjDOmodpiXxvT8a1yEXF+YT2nCzjxHIbQLjo6jImWPFpzGVlTyAJK54hYsbPlrNrB1jYHbHo4X3PNxoB1v0OIw6lo6FW6iKVOIJyyJ32e1Yt30QtA5IQ/cwOzGwBtoWIVCUc5kDZEJ0eApRAVm72MXoDtESmiK5UpYjYUoFrImGarMgGTMwY5T9uJ2jOj2ODcqEYtA5ntOuOTlo9qbAGECQV6ooY550QeduxtRSh3aMyQyFCSAkYCyLuWMkDQL3LGRIVazgBxHgipoi/nQHpPneT/RGX4MJR/N6kB16c0MAgEPQf/qellTgBjHFO6hC7aObMPpA5RpIpYG2KdriDqkrXhg4MYEalUqH5OOQEmAH5aBkSbu0Q6UG3VGagGwCpS7aoGzAVB0tOS2yDi4N2aIvS+Tz0Q+SMR3TgFFltS4HwC4PCP2t2CmZDsYyH3hL3tMpIGFFLm1B5HugEAq38xxH7mQAaLkXyqxo49Dn9o+bDmPtHe2DjX8lfNmMYkwFsR5iBE3kUsBVYAOE1KCPoUk4gUHuD2MmwwpAZ0hH9SQChus+ZiTbGniLfbMAVoQ5SXLbm0BhznYcoz+jllCAMZ2fbt5T+FbsFEBpzWfWvp84fJbQ6IHvX7FxOHwGCBJPdqwXfnUIhaxhkTlRVI33WJ9sz/CADCmLOAbDXAYCiWAkZQGucip2OiJR0iFC1j9kXknlCACozzAPUNK4BwyrmzZPs/EBDWTKrckpxn4jEk4nQB5hiTBtFrMQAyBQmAWtB3QKMLyNaGIoojAHxQ9XlnzN1uJbmaI5yILECApwM0lhQ2AGaDwqSbItxqgAEspP8dSu9bRZv7ADC6YQ0DoTt5tm/PRPSMSaB8xx5wmAACo5VhA0Ac2EsBcuydcToMMkIXuNQNMPtMpn7YY4MzQDFlBrh9tfI2CRmzBkzegWDQO6McJrf7I9v3pI1TLews0TUAcAq4NLgFT9V0xP9eeNxtn5SmswAAAABJRU5ErkJggg==\" width=\"200\" /></td>\n",
       "      <td><img src=\"data:image/png;base64,iVBORw0KGgoAAAANSUhEUgAAACAAAAAgCAYAAABzenr0AAAFgElEQVR4Xk3X18psRRAF4HlNc84555zjMR8zZj2CCoIJvDDgnSKKL+ATCF6JCGV9u3rNzEX9vXfv7qq1VlV1z7/b7a6t3e6ativaLmy7fI2XrOdL2y5Ya25qe7Dt6bbn255qu6zt07Y/2z5pu2HtOavGDzuv7eI1Mr7NX9S2u7H/3Fbj3Oa76hD4zprv59YAeHit/bzttbYP2m5d9mrbm22P1Tg+swY4O3uZ4HwZzQO/MbmlDkGvqgFy3TLvFnq+p+2Rtrvb7ljP99cE/azt37bf1vpzlglMDYG9G8153hS4r0Z+jj5se6gmGFYBcfsaBbUuKaPOo20vtP3Q9vcakaEogOQOY6oInhGYjT2Hxm9qHGJ9osaJhW/VBMEcsAdq0vHcGpF4vAYoVlfXAKWu9RQJc2oAoAb421jdXJN7BXZ9DTOyGoH6r+3LGmfqIkHVgkIU0FqqYIqAdyadUez8GoDmgeVvk8tHCjABnqmRD6tf2n6uCYo5oCdrGHKApdRZTzEAdJbAKp9vtZP3kDPH/7aAQYk9Ru/UBKNIakFqjOR8sUZ+6nHiOeAEYVSxlj1RA5hqmNt/ao1bkQDAOQCe0wnMd7JBzMGVyyiiTjjHXHuaA4jxIe86CykEUidUA5pyWzFYBLF0JIBnwTlKe6Zd5VJRvlvjXNrIzqk5Z4Q57JEAXp0BSSV+zDs3NtYCyR3ENqV4IITcGrJGIUYNqdL/UiWFmGFJCfI+WYf8ixH2Wt16pLfAyVsOnBy7b9eg5oAKWGLAAUcvt31bE1Q9aCtg5Buw39s+Xu/WIEMhaRNjOwmdSGkPBRe2PgqKKWmxNi8VNpP5p7ava2pBKqRFhVPA9y/WXvJThBrPrnfx+N/+ACCwS4VMAmGNUQLa4N18UvBVHVQCQCvmbqEkiSljj9NQbfGvja3xbX8RCf7rek4XCOI5CpEdO2s4w5bdW3MZGVPICKVzMFbsfNmrdqi1nQMmPXxfc83GgfG4Q5jNqWjoc1tKHSKC8id9ntWLd+wRwJyJ59yg7L69VKwiESgb0obkFAiwFKJiM5ejF2BzTIqslcoUMR8KUC3kmOZrfwImZxwKnrbD2jOn1BDcUU1aDnK264yP2t6v8QUQJRToKzXK2Yd51DG3OZU7MuaQyKEkBZwEkHct5QAhP+acYUVawQCxHwipsl7OgfSeOsnvif3hw1F+3aQGXJ/SwCEQ1tn4T00vCwIY55TSJdaSXTDzQOoQRaqItSHVrUVid9qa8MFGimAqFapfUEGACYAflwNsc5dIB6mNOoPUABgx1a5qwLmApHVacjuIBHijpgi9H0sPRH5IZG2CAkstKbA/BAT8ow63YE5I/qmQe8LcFkwaSGixoOYE0g0AGP2KYeZzDuRgcSS/XuPHnIDftb1Xc59ob2qcavur5pimJMAb4myEyDvGUmAEQNCkhJFPMWGk8AA3l8OGQmpAR/glBYTidtZUTbGniLfiSwGawPKMZafXgBM8Snkmv6AcUSBHtnlz+U2hWyiRA07rvrTWi0fJrQCxJ/3xxSQgMFRgyb1a8N0+EpKWc86wMgLpuy7RnvkdAUAUsxeQ/X8okVgKOCFpgmNujRMt6cAQW87MY+SeUIAKTPAA9Y0qgAgquL1sL29Y56TKLSl4TjyOME4XUI4zacBeiwGQU5ABqAV9BzRrAdnaEKMEAsAHVZ93ztztRparOSYIZgECvDVAU0lhA+BsUJjWpgi3GuCACul/m9L7RmxzHwBmbVSjQOROns2bcyJ6piRQvlMPOEoAQdH9YQNAAphLAQrsnXNrOOTEWuBSN8AcK5n64Y8PwQDNDxG3r1beBzYGTN6B4NA7pwImt8dHtu9Jm6BaOAeXrgFAUMClwS3o4DpR/wOd+txt0o+YhQAAAABJRU5ErkJggg==\" width=\"200\" /></td>\n",
       "      <td><img src=\"data:image/png;base64,iVBORw0KGgoAAAANSUhEUgAAACAAAAAgCAYAAABzenr0AAAFfElEQVR4Xk3X16pmRRAF4HpNc84555xzdsyYdQQVBBN4YcA7RRRfwCcQvBIRtL6uXv85DHV6797dVWutqur+p+rq+q+uarus7fy2S/d40X6+uO28veaGtvvbnmx7ru2JtkvaPmn7o+3jtuv2njNq/LBz2i7cI+Pb/AVtdX3/uaXGuc131FHg29t8P7sGwIN77Wdtr7a933bztlfa3mh7pMbx6TXA2ZnbBOfLaB74xeSmOgp6RQ2Qa7Z5t9DzXW0Ptd3Zdtt+vrcm6Kdt/7T9uteftU1gagjs3WjO81Lgnhr5Ofqg7YGaYFgFxK17FNS6pIw6D7c93/Z92197RIaiAJI7jKkieEZgFnsOjV/XOMT6qRonFr5ZEwRzwO6rSceze0Ti0RqgWF1ZA5S61lMkzKkBgBrgb7G6sSb3CuzaGmZkNQL1b9sXNc7URYKqBYUooLVUwRQB70w6o9i5NQDNA8vfkstHCjABnq6RD6uf236qCYo5oCdqGHKApdRZTzEAdJbAKp9vtZP3kDPH/1rAoMQeo7drglEktSA1RnK+UCM/9TjxHHCCMKpYyx6rAUw1zO0/ucdVJABwDoDndALznWwQc3D5NoqoE84x157mAGJ8yLvOQgqB1AnVgKbcKgaLIJaOBPAsOEdpz7SrXCrKd2qcSxvZOTXnjDCHPRLAqzMgqcSPeefGYi2Q3EFsU4oHQsitIWsUYtSQKv0vVVKIGZaUIO/jdZR/McJeq1uP9AqcvOXAybH7Vg1qDqiAJQYccPRS2zc1QdWDtgJGvgH7re2j/W4NMhSSNjHWSehESnsouLD1UVBMSYu1eamwmcw/tn1VUwtSIS0qnAK+f773kp8i1Hhmv4vH//oDgMAuFTIJhDVGCWiDd/NJwZd1pBIAWjF3CyVJTBl7nIZqi39tbI1vh4tI8F/2c7pAEM9RiOzYWcMZtuzumsvImEJGKJ2DsWLny161Q611Dpj08F3NNRsHxuMdwmxORUOf21LqEBGUP+nzrF68Y48A5kw85wZlD+2lYhWJQNmQNiSnQIClEBWbuRy9AJtjUmStVKaI+VCAaiHHNF+HEzA541DwtB3WnjmlhuCOatJykLNdZ3zY9l6NL4AooUBfrlHOPsyjjrnlVO7ImEMih5IUcBJA3rWUA4T8mHOGFWkFA8R+IKTKejkH0nvqJL8nDocPR/l1kxpwfUoDh0BYZ+PfNb0sCGCcU0qXWEt2wcwDqUMUqSLWhlS3Fok6ZU/4YCNFMJUK1S+oIMAEwA/bAba5S6SD1EadQWoAjJhqVzXgXEDSOi25DiIBXq8pQu/HpQciPySyNkGBpZYU2B8CAv5eR7dgTkj+qZB7wtwKJg0ktFhQcwLpBgCMfsUw8zkHcrA4kl+r8WNOwG/b3q25T7Q3NU62/VlzTFMS4IU4GyHyjrEUGAEQNClh5FNMGCk8wM3lsKGQGtARfkkBobidNf4p9hTxKr4UoAksT9t2ag04waOUZ/ILyhEFcmSbN5ffFLqFEjngtO6Le714lFwFiD3pj19MAgJDBZbcqwXf7SMhaTnnDCsjkL7rEu2Z3xEARDF7ATn8DyUSSwEnJE1wzK1xoiUdGGLLmXmM3BMKUIEJHqC+UQUQQQW3lx3kDeucVLklBc+JxxHG6QLKcSYN2GsxAHIKMgC1oO+AZi0gqw0xSiAAfFD1eefM3W5kuZpjgmAWIMBbAzSVFDYAzgaFaW2KcNUAB1RI/9uU3jdim/sAMGujGgUid/Js3pwT0TMlgfKdesBRAgiKHg4bABLAXApQYO+cW8MhJ9YCl7oB5riSqR/++BAM0PwQcftq5UNgY8DkHQgOvXMqYHJ7/Mj2PWkTVAvn4NI1AAgKuDS4BR1c3RH/A3453G0PS9PUAAAAAElFTkSuQmCC\" width=\"200\" /></td>\n",
       "      <td><img src=\"data:image/png;base64,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\" width=\"200\" /></td>\n",
       "    </tr>\n",
       "    <tr>\n",
       "      <th>1</th>\n",
       "      <td>POLYGON ((-58.286636576261145 -34.758580906202866, -58.286679941749476 -34.76137571668496, -58.28329340123003 -34.76141146033393, -58.28325014980317 -34.75861664615162, -58.286636576261145 -34.758580906202866))</td>\n",
       "      <td><img src=\"data:image/png;base64,iVBORw0KGgoAAAANSUhEUgAAACAAAAAgCAYAAABzenr0AAAFX0lEQVR4Xk3WydIVRRAF4HxHmRRFEAWRGZRJRJF5kB8FDIEQNMIw2BlBuIUFb+HeYMOOF/jJr6sO9y7ydndVVp6TY936rGpzT8uRllMtn7dsb/mq5WjLpy10drbsaPm4ZXfLrvl+cO5vm/verdFxhi3ina1LLf+3/NJyoKW+qEHAEwmLDFO2xmCMAPioBjiA6Bxr+XLqOruvVo4480kNAp4wbs0ze1vKz4mWQzW8RoAAiTj8QcuWGp6GEKDjLT+13KlB5sO5ByxR4KBv3r+q4T3dwy31TQ0CGCPDCwQoYG/dO+AQsI6QCFxo+baGZ0Do2EcCefoh8ajl3xoEOHy11lLAe+FzCAGk5PLk3AOWfUB58jJPZ5wFSKRrPZ1ApUqtsStqJWQUgQgpQ4yIzLn5LnQOIkoYtW7Ne+ri+3mG1yKJGHBPUYHlDCJSd7ulKCSsUcZe6FNcT2uwdlCaEOURQSDd4VvnZD+g9qQmxOX+h5bTLZXw8xwYA0B8IwH06xpkpIQRJBliBJBvNm60/D7X6bKdSKR187TnuXQBJgAoAw04EN4wQALuIFKKKW0qZS9qFJnw8tLZ/TUiC8d5Tlq3hkQJd4qDNwkfcIeB+XYgg4YwCBR5hhG+OL9FIzVlPWlNAYqOutE5SwqAxXAqNN0RMO9IJCJaSAtGjwBjFICISqfOUMRsiAqsH+cexys5FzbKGUoBJRmjwJFTvS9b7tbwFJgzbFn7bupmkNmnJ6LOb8xvhMsQAeowBR5kjAqTp0oWCYaE+EGNYtN2Z+ZZ+/bO17CDdIARvja/r7fcrEF4SYHwCJlDaTFeezIq71tr1cMZ1/SF1FPR0vVE2lm6f7dcrtEdpqDuQFgUkPZe2KzPfgByxLhvhoETaUBWxBItgydVDdy6NU6oJ+/AREBqFKpvBBcCFlVzptnZlic1mKvudIJ9RnNYISrCP2sUmbTRkQZnOYBgRjCMSMa8uis5Uwc8TUeY0XKcSZgCopNvT/kUWsKRFDPPEEAqhcuxXPecsM9+8S65B4Ihz9zZwmeNooKz5nBaMjNdBAwmOrxjc72r2AbMjnXvMEVnuYyEGmtg6f3chERIVbLJ5+6XT0ZCBIh1+aWvGBN2e9IFmH2R8+TIEoFMMSHKhUOQSGc4TCc5jAGkeQcQYcZDjL56EEUp+61W4z6X0VKEmck2clMxBjjdYR9RxkJQnfxVg7R9+nKsg9RD+lxqkFRnbHMUOCeWIpQCuUgdMGgTsUQhk1F4M4z+q3HxMGgtbclTqWDLuYzu2AGueK2xV8LHA15ja5QyihhQhDIXhEwt+P6n5UqNqDBEVxvyiiBxr0ZBP5x6HBXRdAW8csiGVnrTslnDM96kehWYaZZ/SUmTb/u5gDgTHWQRcE7x0kHMvvf3bch7Vf5Hy9uW1y3Pa+QxFctjBHM4fRyPeMuj/I9wBqHUjChKm/P3W57VuE2Xf0TahCJ2mMZDnjFiUDECxDtSIpP/CECNcwTSPbl0FB47zqVjpERE6SO0EACe69E3AiIDRJ4YxtYgknf55qVcegYgYU1+7WceiAL7hBOZIZWDhDfuAelgCAHr6X8RUlC8CmEEtCRi1jiTaZn/CrkPAAu9iZmhVz4cYMwdrmge1wiVdZ4T70auKagO1qOA1K+1Cn9a2beuQopz9tSb9GRiLv8HfGQWOCh8PE9v61ltyQte5Zq2p6/VjXzzkCOA6OXGhEE/c+DnqSOSpSAoWCDYIgLEnxHAIWANAOZJg9DrGGQ4knVOIARUmtnOILMnpWqnNmqExIai8BdMtcor9sBJ/hfyxL78AZMe3jOugBERTXsiGMJISq/0cDIj+h2ETrY08UfIawAAAABJRU5ErkJggg==\" width=\"200\" /></td>\n",
       "      <td><img src=\"data:image/png;base64,iVBORw0KGgoAAAANSUhEUgAAACAAAAAgCAYAAABzenr0AAAFYElEQVR4Xk3WydJURRAF4H5HxQkUcGBQmVUQRBFnGRwQAyEQiSAId0YYbHHhW7g33LjzBdL8qur034vse29VVp6TY/Vms3m1NpvDLSdb3mt5veX5ljdbTrUcrKmzv+WFlgMth1peWe9vrf3n1r53a3ScYYt4Z+uTlr9bvm853rJ5oyYBTyQsMkzZGoMxAuClmuAAonO65djSdfZI7TnizMs1CXjCuLbOvNYyfs62vF3TawQIkIjDz7Q8W9PTEAJ0puVGy82aZF5ce8ASBQ765v2fNb2ne6Jl825NAhgjwwsEKGBv3TvgELCOkAh82HKppmdA6NhHAnn6IXG35UlNAhz+vHZSwHvhcwgBpOTy3NoDln1AefIyT2ecBUikazedQKVKrbEraiNkFIEIKUOMiMzF9S50DiJKGLVuzXvq4qN1htciiRhwT1GB5QwiUne9ZSgkrFHGXuhTXA9qsnZQmhDlEUEg3eFb52Q/oPakJsTl/krL+ZZt+HkOjAEgvpEA+k5NMlLCCJIMMQLINxtftdxf63TZTiTSunna8xxgmACgDDTgQHjDAAm4g0gpprSplD2tWWTCy0tnj9aMLBznOWndGhIj3CkO3iR8wB0G5tuBDBrCIFDkGUb44/UtGqkp60lrClB01I3OGSyAxXAqNN0RMO9IJCJaSAtGjwBjFICISqfOUMRsiAqsq2uP49ucCxvlDKWAkoxR4Mip3j9avq3pKTBn2LJ2eelmkNmnJ6LOf7O+ER5DBKjDFHiQMSpMnipZJBgS4ts1i03bXVhn7dv7oKYdpAOM8Bfr+8uWr2sSHikQHiFzKC3Ga09G5X1f7fVwxjV9IfVUtHQ9kXaW7uOWT2t2hymoOxAWBaS9Dza7sx+AHDHum2HgRBqQFbFEy+BJVQO3bo0T6sk7MBGQGoXqG8FBwKJqzjR7v+XnmsxVdzrBPqM5rBAV4cOaUZQ2OtLgLAcQzAiGEcmYV3cjZ+qAp+kIM1qOMwlTQHTy7SmfQks4kmLmGQJIpXA5luueE/bZH94l90Aw5Jk7W/isUVRw1hxOS2ami4DBRId3bO52FduA2bHuHabobGc11sDS+7kJiZCqZJPP3S+fjIQIEOvyS18xJuz2pAsw+yLnyZERgUwxIcqFQ5BIZzhMJzmMAaR5BxBhxkOMvnoQRSm7U3vjPpfRKMLMZBu5qRgDnO6wjyhjIahOHtUkbZ++HOsg9ZA+lxok1RnbHAXOiVGEUiAXqQMGbSKWKGQyCm+G0V81Lx4GraUteSoVbDmX0R07wBWvNfZG+HjAa2yNUkYRA4pQ5oKQqQXfv7V8VjMqDNHVhrwiSNyqWdA/LT2Oimi6At44ZEMr/dtSNT3jTapXgZlm+ZeUNPm2nwuIM9FBFgHnFC8dxOx737Yh71X5Ly3/tfzT8nvNPKZieYxgDqeP4xFveZT/Ec4glJoRRWlz/oeWX2vepuMfkTahiB2m8ZBnjBhUjADxjpTI5D8CUOMcgXRPLh2Fx45z6RgpEVH6CA0CwHM9+kZAZIDIE8PYGkTyLt+8lEvPACSsya/9zANRYJ9wIjNke5Dwxj0gHQwhYD39L0IKilchjICWRMwaZzIt818h9wFgoTcxM/TGhwOMucMVzb2aobLOc+LdyDUF1cFuFJD6sfbCn1b2rauQ4pw99SY9mZjDqI/MAgeFj+fpbT2rLXnBq1zT9vS1upFvHnIEEL3cmDDoZw58t3REchQEBQsEW0SA+DMCOASsAcA8aRB6HYMMR7LOCYSASjPbGWT2pFTtjP9nQmJDUfgLplrlFXvgJP8LeWJf/oBJD+8ZV8CIiKY9EQxhJKVXejg5R/T/EFG2NGc2Iy0AAAAASUVORK5CYII=\" width=\"200\" /></td>\n",
       "      <td><img src=\"data:image/png;base64,iVBORw0KGgoAAAANSUhEUgAAACAAAAAgCAYAAABzenr0AAAFXElEQVR4Xk3WWa9VRRAF4PqPMqOIgODEJDOIA86CzBKBiJoY4psJ8VUf/Be+G1988w9ofd29zj25qbv37q6utWrsU3Wk/qvXWk61XGw51rK35a2W0y2vttA52LKv5eWWwy2H1vvba3/P2vdujY4zbBHvbH3c8lfL/ZY3W+r1mgQ8kbDIMGVrDMYIgAM1wQFE50zLG0vX2eO144gzr9Qk4Anj5jpztGX8e7flnZpeI0CARBx+qWVXTU9DCNDZlq9bbtcks3/tAUsUOOib93/U9J7uyZa6UJMAxsjwAgEK2Fv3DjgErCMkAu+3XKvpGRA69pFAnn5IPGn5tSYBDn9WWyngvfA5hABScnlu7QHLPqA8eZmnM84CJNK1nU6gUqXW2BW1ETKKQISUIUZE5up6FzoHESWMWrfmPXXxwTrDa5FEDLinqMByBhGpu9UyFBLWKGMv9Cmu72uydlCaEOURQSDd4VvnZD+g9qQmxOX+w5ZLLZvw8xwYA0B8IwH0fE0yUsIIkgwxAsg3G1+2fLfW6bKdSKR187TnOcAwAUAZaMCB8IYBEnAHkVJMaVMp+61mkQkvL509UTOycJznpHVrSIxwpzh4k/ABdxiYbwcyaAiDQJFnGOGP1rdopKasJ60pQNFRNzpnsAAWw6nQdEfAvCORiGghLRg9AoxRACIqnTpDEbMhKrBurD2Ob3IubJQzlAJKMkaBI6d6f2+5W9NTYM6wZe360s0gs09PRJ2/s74RHkMEqMMUeJAxKkyeKlkkGBLib2oWm7a7vM7at/deTTtIBxjhz9f3Fy1f1SQ8UiA8QuZQWozXnozK++7a6eGMa/pC6qlo6Xoi7Szd5y2f1OwOU1B3ICwKSHsfbLZnPwA5Ytw3w8CJNCArYomWwZOqBm7dGifUk3dgIiA1CtU3goOARdWcaXal5VlN5qo7nWCf0RxWiIrwx5pFJm10pMFZDiCYEQwjkjGv7kbO1AFP0xFmtBxnEqaA6OTbUz6FlnAkxcwzBJBK4XIs1z0n7LM/vEvugWDIM3e28FmjqOCsOZyWzEwXAYOJDu/Y3O4qtgGzY907TNHZzGqsgaX3cxMSIVXJJp+7Xz4ZCREg1uWXvmJM2O1JF2D2Rc6TIyMCmWJClAuHIJHOcJhOchgDSPMOIMKMhxh99SCKUvZt7Yz7XEajCDOTbeSmYgxwusM+ooyFoDr5qSZp+/TlWAeph/S51CCpztjmKHBOjCKUArlIHTBoE7FEIZNReDOM/qx58TBoLW3JU6lgy7mM7tgBrnitsTfCxwNeY2uUMooYUIQyF4RMLfj+peXTmlFhiK425BVB4kHNgn689DgqoukKeOOQDa30T4s/nvEm1avATLP8SkqafNvPBcSZ6CCLgHOKlw5i9r1v2pD3qvyHln9b/m55UTOPqVgeI5jD6eN4xFse5XeEMwilZkRR2px/2PJzzdt0/CLSJhSxwzQe8owRg4oRIN6REpn8RgBqnCOQ7smlo/DYcS4dIyUiSh+hQQB4rkffCIgMEHliGFuDSN7lm5dy6RmAhDX5tZ95IArsE05khmwOEt64B6SDIQSsp/9FSEHxKoQR0JKIWeNMpmV+K+Q+ACz0JmaG3vhwgDF3uKJ5WjNU1nlOvBu5pqA62I4CUo9qJ/xpZd+6CinO2VNv0pOJOYz6yCxwUPh4nt7Ws9qSF7zKNW1PX6sb+eYhRwDRy40Jg37mwL2lI5KjIChYINgiAsSPEcAhYA0A5kmD0OsYZDiSdU4gBFSa2c4gsyelamf8PhMSG4rCTzDVKq/YAyf5XcgT+/IHTHp4z7gCRkQ07YlgCCMpvdLDyTWi/wfKSLY0WH9aVgAAAABJRU5ErkJggg==\" width=\"200\" /></td>\n",
       "      <td><img src=\"data:image/png;base64,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\" width=\"200\" /></td>\n",
       "    </tr>\n",
       "  </tbody>\n",
       "</table>"
      ],
      "text/plain": [
       "<IPython.core.display.HTML object>"
      ]
     },
     "metadata": {},
     "output_type": "display_data"
    }
   ],
   "source": [
    "display(HTML(df_HTML.limit(2).toPandas().to_html(escape=False)))"
   ]
  },
  {
   "cell_type": "markdown",
   "metadata": {},
   "source": [
    "# Writing GeoTiff Images"
   ]
  },
  {
   "cell_type": "code",
   "execution_count": 31,
   "metadata": {},
   "outputs": [],
   "source": [
    "'''Writing GeoTiff DataFrames as GeoTiff Images'''\n",
    "\n",
    "df = sedona.read.format(\"geotiff\").option(\"dropInvalid\",True).option(\"readToCRS\", \"EPSG:4326\").load(DATA_DIR)\n",
    "df = df.selectExpr(\"image.origin as origin\",\"ST_GeomFromWkt(image.geometry) as Geom\", \"image.height as height\", \"image.width as width\", \"image.data as data\", \"image.nBands as bands\")\n",
    "\n",
    "SAVE_PATH = \"./data/raster-written/\"\n",
    "df.write.mode(\"overwrite\").format(\"geotiff\").option(\"writeToCRS\", \"EPSG:4326\").option(\"fieldGeometry\", \"Geom\").option(\"fieldNBands\", \"bands\").save(SAVE_PATH)"
   ]
  },
  {
   "cell_type": "code",
   "execution_count": 32,
   "metadata": {},
   "outputs": [],
   "source": [
    "'''Writing GeoTiff Images in a Single Partition'''\n",
    "df.coalesce(1).write.mode(\"overwrite\").format(\"geotiff\").option(\"writeToCRS\", \"EPSG:4326\").option(\"fieldGeometry\", \"Geom\").option(\"fieldNBands\", \"bands\").save(SAVE_PATH)"
   ]
  },
  {
   "cell_type": "code",
   "execution_count": 33,
   "metadata": {},
   "outputs": [],
   "source": [
    "'''Find the Partition of the Written GeoTiff Images.\n",
    "   If you did not write with coalesce(1), change the below code to adjust the writtenPath'''\n",
    "writtenPath = SAVE_PATH\n",
    "dirList = os.listdir(writtenPath)\n",
    "for item in dirList:\n",
    "    if os.path.isdir(writtenPath + \"/\" + item):\n",
    "        writtenPath += \"/\" + item\n",
    "        break"
   ]
  },
  {
   "cell_type": "code",
   "execution_count": 35,
   "metadata": {},
   "outputs": [
    {
     "data": {
      "text/html": [
       "<table border=\"1\" class=\"dataframe\">\n",
       "  <thead>\n",
       "    <tr style=\"text-align: right;\">\n",
       "      <th></th>\n",
       "      <th>Geom</th>\n",
       "      <th>RedBand</th>\n",
       "      <th>BlueBand</th>\n",
       "      <th>GreenBand</th>\n",
       "      <th>CombinedBand</th>\n",
       "    </tr>\n",
       "  </thead>\n",
       "  <tbody>\n",
       "    <tr>\n",
       "      <th>0</th>\n",
       "      <td>POLYGON ((-58.702667236328125 -34.418819427490234, -58.702667236328125 -34.421573638916016, -58.69945526123047 -34.421573638916016, -58.69945526123047 -34.418819427490234, -58.702667236328125 -34.418819427490234))</td>\n",
       "      <td><img src=\"data:image/png;base64,iVBORw0KGgoAAAANSUhEUgAAACAAAAAgCAYAAABzenr0AAAFhklEQVR4Xk3W1wpdVRAG4HlNa+yxx240xh57bzExSmKJRlBBsIEXRvFOCYov4BMIXokIcb496+ecizlr77VnzfzzT1mn7qi6eKjllpbrWm5e68H1fGPLtUvn3pYnW15qeb3lxZabWj5v+bPls5a715krauyQq1tuWCth2/71LXVP/zxQY9zho7Vz/FCL71fVAHhq6X7Z8k7L2ZbDS062vNfybI3hy2uAkyuXcM6W1T7wJZL7a+f0thogdy7xTtHzIy1PtzzccmQ9P17j9IuWf1t+W/oHlnCMDY69W+153hh4rIZ+hj5uOVbjTFQB8eBaOaWXlGHnmZY3Wn5s+XutgsEogOhOxFjhPCswJXoGrd/VGBT1yzVGKJ6ucSJywJ6oScdraxXEczVARXV7DVDs0sdIIscGAGqAvRLVfTW5V2B31USGVitQ/7V8XWNMXcSpWlCIHNLFikgF4J1IZxi7pgagfWDZK3T5iAHCwSs19Inq15ZfapyKHNDjNREyIEqpo48xAHQWxyqfbbWT9wRnj/2iQKAUvYjer3GGkdSC1FjR+WYN/dhjxHPAcUKwQpc8XwMYayJ3/txaS5EAwDgAntMJxHe0QczArUswok4YF7n2tAcQYUPedZagBJA6wRrQmCvFQAli6YgDz5wzlPZMu8qlovygxri0oZ1Re2aEPdELAnh1BiSW2LFvbpSoOZI7iB1K8UAIOR20hiGCDanS/1IlhSITJSbQ+0Lt8s9Hotfq9AVdHCdvGTgZu2dqUDOABVGKgAGG3m75vsapetBWwMg3YL+3fLre6QgGQ9LGxzYJTaS0h4JLtD5yKlLUitq+VDiM5p9bvq2pBamQFhWOAd+/WmfRjxFsvLre+WO//ADAsUsFTRyJWkRx6IB3+0nBN7VjCQCtmLsFkyjGjDOmodpiXxvT8a1yEXF+YT2nCzjxHIbQLjo6jImWPFpzGVlTyAJK54hYsbPlrNrB1jYHbHo4X3PNxoB1v0OIw6lo6FW6iKVOIJyyJ32e1Yt30QtA5IQ/cwOzGwBtoWIVCUc5kDZEJ0eApRAVm72MXoDtESmiK5UpYjYUoFrImGarMgGTMwY5T9uJ2jOj2ODcqEYtA5ntOuOTlo9qbAGECQV6ooY550QeduxtRSh3aMyQyFCSAkYCyLuWMkDQL3LGRIVazgBxHgipoi/nQHpPneT/RGX4MJR/N6kB16c0MAgEPQf/qellTgBjHFO6hC7aObMPpA5RpIpYG2KdriDqkrXhg4MYEalUqH5OOQEmAH5aBkSbu0Q6UG3VGagGwCpS7aoGzAVB0tOS2yDi4N2aIvS+Tz0Q+SMR3TgFFltS4HwC4PCP2t2CmZDsYyH3hL3tMpIGFFLm1B5HugEAq38xxH7mQAaLkXyqxo49Dn9o+bDmPtHe2DjX8lfNmMYkwFsR5iBE3kUsBVYAOE1KCPoUk4gUHuD2MmwwpAZ0hH9SQChus+ZiTbGniLfbMAVoQ5SXLbm0BhznYcoz+jllCAMZ2fbt5T+FbsFEBpzWfWvp84fJbQ6IHvX7FxOHwGCBJPdqwXfnUIhaxhkTlRVI33WJ9sz/CADCmLOAbDXAYCiWAkZQGucip2OiJR0iFC1j9kXknlCACozzAPUNK4BwyrmzZPs/EBDWTKrckpxn4jEk4nQB5hiTBtFrMQAyBQmAWtB3QKMLyNaGIoojAHxQ9XlnzN1uJbmaI5yILECApwM0lhQ2AGaDwqSbItxqgAEspP8dSu9bRZv7ADC6YQ0DoTt5tm/PRPSMSaB8xx5wmAACo5VhA0Ac2EsBcuydcToMMkIXuNQNMPtMpn7YY4MzQDFlBrh9tfI2CRmzBkzegWDQO6McJrf7I9v3pI1TLews0TUAcAq4NLgFT9V0xP9eeNxtn5SmswAAAABJRU5ErkJggg==\" width=\"200\" /></td>\n",
       "      <td><img src=\"data:image/png;base64,iVBORw0KGgoAAAANSUhEUgAAACAAAAAgCAYAAABzenr0AAAFgElEQVR4Xk3X18psRRAF4HlNc84555zjMR8zZj2CCoIJvDDgnSKKL+ATCF6JCGV9u3rNzEX9vXfv7qq1VlV1z7/b7a6t3e6ativaLmy7fI2XrOdL2y5Ya25qe7Dt6bbn255qu6zt07Y/2z5pu2HtOavGDzuv7eI1Mr7NX9S2u7H/3Fbj3Oa76hD4zprv59YAeHit/bzttbYP2m5d9mrbm22P1Tg+swY4O3uZ4HwZzQO/MbmlDkGvqgFy3TLvFnq+p+2Rtrvb7ljP99cE/azt37bf1vpzlglMDYG9G8153hS4r0Z+jj5se6gmGFYBcfsaBbUuKaPOo20vtP3Q9vcakaEogOQOY6oInhGYjT2Hxm9qHGJ9osaJhW/VBMEcsAdq0vHcGpF4vAYoVlfXAKWu9RQJc2oAoAb421jdXJN7BXZ9DTOyGoH6r+3LGmfqIkHVgkIU0FqqYIqAdyadUez8GoDmgeVvk8tHCjABnqmRD6tf2n6uCYo5oCdrGHKApdRZTzEAdJbAKp9vtZP3kDPH/7aAQYk9Ru/UBKNIakFqjOR8sUZ+6nHiOeAEYVSxlj1RA5hqmNt/ao1bkQDAOQCe0wnMd7JBzMGVyyiiTjjHXHuaA4jxIe86CykEUidUA5pyWzFYBLF0JIBnwTlKe6Zd5VJRvlvjXNrIzqk5Z4Q57JEAXp0BSSV+zDs3NtYCyR3ENqV4IITcGrJGIUYNqdL/UiWFmGFJCfI+WYf8ixH2Wt16pLfAyVsOnBy7b9eg5oAKWGLAAUcvt31bE1Q9aCtg5Buw39s+Xu/WIEMhaRNjOwmdSGkPBRe2PgqKKWmxNi8VNpP5p7ava2pBKqRFhVPA9y/WXvJThBrPrnfx+N/+ACCwS4VMAmGNUQLa4N18UvBVHVQCQCvmbqEkiSljj9NQbfGvja3xbX8RCf7rek4XCOI5CpEdO2s4w5bdW3MZGVPICKVzMFbsfNmrdqi1nQMmPXxfc83GgfG4Q5jNqWjoc1tKHSKC8id9ntWLd+wRwJyJ59yg7L69VKwiESgb0obkFAiwFKJiM5ejF2BzTIqslcoUMR8KUC3kmOZrfwImZxwKnrbD2jOn1BDcUU1aDnK264yP2t6v8QUQJRToKzXK2Yd51DG3OZU7MuaQyKEkBZwEkHct5QAhP+acYUVawQCxHwipsl7OgfSeOsnvif3hw1F+3aQGXJ/SwCEQ1tn4T00vCwIY55TSJdaSXTDzQOoQRaqItSHVrUVid9qa8MFGimAqFapfUEGACYAflwNsc5dIB6mNOoPUABgx1a5qwLmApHVacjuIBHijpgi9H0sPRH5IZG2CAkstKbA/BAT8ow63YE5I/qmQe8LcFkwaSGixoOYE0g0AGP2KYeZzDuRgcSS/XuPHnIDftb1Xc59ob2qcavur5pimJMAb4myEyDvGUmAEQNCkhJFPMWGk8AA3l8OGQmpAR/glBYTidtZUTbGniLfiSwGawPKMZafXgBM8Snkmv6AcUSBHtnlz+U2hWyiRA07rvrTWi0fJrQCxJ/3xxSQgMFRgyb1a8N0+EpKWc86wMgLpuy7RnvkdAUAUsxeQ/X8okVgKOCFpgmNujRMt6cAQW87MY+SeUIAKTPAA9Y0qgAgquL1sL29Y56TKLSl4TjyOME4XUI4zacBeiwGQU5ABqAV9BzRrAdnaEKMEAsAHVZ93ztztRparOSYIZgECvDVAU0lhA+BsUJjWpgi3GuCACul/m9L7RmxzHwBmbVSjQOROns2bcyJ6piRQvlMPOEoAQdH9YQNAAphLAQrsnXNrOOTEWuBSN8AcK5n64Y8PwQDNDxG3r1beBzYGTN6B4NA7pwImt8dHtu9Jm6BaOAeXrgFAUMClwS3o4DpR/wOd+txt0o+YhQAAAABJRU5ErkJggg==\" width=\"200\" /></td>\n",
       "      <td><img src=\"data:image/png;base64,iVBORw0KGgoAAAANSUhEUgAAACAAAAAgCAYAAABzenr0AAAFfElEQVR4Xk3X16pmRRAF4HpNc84555xzdsyYdQQVBBN4YcA7RRRfwCcQvBIRtL6uXv85DHV6797dVWutqur+p+rq+q+uarus7fy2S/d40X6+uO28veaGtvvbnmx7ru2JtkvaPmn7o+3jtuv2njNq/LBz2i7cI+Pb/AVtdX3/uaXGuc131FHg29t8P7sGwIN77Wdtr7a933bztlfa3mh7pMbx6TXA2ZnbBOfLaB74xeSmOgp6RQ2Qa7Z5t9DzXW0Ptd3Zdtt+vrcm6Kdt/7T9uteftU1gagjs3WjO81Lgnhr5Ofqg7YGaYFgFxK17FNS6pIw6D7c93/Z92197RIaiAJI7jKkieEZgFnsOjV/XOMT6qRonFr5ZEwRzwO6rSceze0Ti0RqgWF1ZA5S61lMkzKkBgBrgb7G6sSb3CuzaGmZkNQL1b9sXNc7URYKqBYUooLVUwRQB70w6o9i5NQDNA8vfkstHCjABnq6RD6uf236qCYo5oCdqGHKApdRZTzEAdJbAKp9vtZP3kDPH/1rAoMQeo7drglEktSA1RnK+UCM/9TjxHHCCMKpYyx6rAUw1zO0/ucdVJABwDoDndALznWwQc3D5NoqoE84x157mAGJ8yLvOQgqB1AnVgKbcKgaLIJaOBPAsOEdpz7SrXCrKd2qcSxvZOTXnjDCHPRLAqzMgqcSPeefGYi2Q3EFsU4oHQsitIWsUYtSQKv0vVVKIGZaUIO/jdZR/McJeq1uP9AqcvOXAybH7Vg1qDqiAJQYccPRS2zc1QdWDtgJGvgH7re2j/W4NMhSSNjHWSehESnsouLD1UVBMSYu1eamwmcw/tn1VUwtSIS0qnAK+f773kp8i1Hhmv4vH//oDgMAuFTIJhDVGCWiDd/NJwZd1pBIAWjF3CyVJTBl7nIZqi39tbI1vh4tI8F/2c7pAEM9RiOzYWcMZtuzumsvImEJGKJ2DsWLny161Q611Dpj08F3NNRsHxuMdwmxORUOf21LqEBGUP+nzrF68Y48A5kw85wZlD+2lYhWJQNmQNiSnQIClEBWbuRy9AJtjUmStVKaI+VCAaiHHNF+HEzA541DwtB3WnjmlhuCOatJykLNdZ3zY9l6NL4AooUBfrlHOPsyjjrnlVO7ImEMih5IUcBJA3rWUA4T8mHOGFWkFA8R+IKTKejkH0nvqJL8nDocPR/l1kxpwfUoDh0BYZ+PfNb0sCGCcU0qXWEt2wcwDqUMUqSLWhlS3Fok6ZU/4YCNFMJUK1S+oIMAEwA/bAba5S6SD1EadQWoAjJhqVzXgXEDSOi25DiIBXq8pQu/HpQciPySyNkGBpZYU2B8CAv5eR7dgTkj+qZB7wtwKJg0ktFhQcwLpBgCMfsUw8zkHcrA4kl+r8WNOwG/b3q25T7Q3NU62/VlzTFMS4IU4GyHyjrEUGAEQNClh5FNMGCk8wM3lsKGQGtARfkkBobidNf4p9hTxKr4UoAksT9t2ag04waOUZ/ILyhEFcmSbN5ffFLqFEjngtO6Le714lFwFiD3pj19MAgJDBZbcqwXf7SMhaTnnDCsjkL7rEu2Z3xEARDF7ATn8DyUSSwEnJE1wzK1xoiUdGGLLmXmM3BMKUIEJHqC+UQUQQQW3lx3kDeucVLklBc+JxxHG6QLKcSYN2GsxAHIKMgC1oO+AZi0gqw0xSiAAfFD1eefM3W5kuZpjgmAWIMBbAzSVFDYAzgaFaW2KcNUAB1RI/9uU3jdim/sAMGujGgUid/Js3pwT0TMlgfKdesBRAgiKHg4bABLAXApQYO+cW8MhJ9YCl7oB5riSqR/++BAM0PwQcftq5UNgY8DkHQgOvXMqYHJ7/Mj2PWkTVAvn4NI1AAgKuDS4BR1c3RH/A3453G0PS9PUAAAAAElFTkSuQmCC\" width=\"200\" /></td>\n",
       "      <td><img src=\"data:image/png;base64,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\" width=\"200\" /></td>\n",
       "    </tr>\n",
       "    <tr>\n",
       "      <th>1</th>\n",
       "      <td>POLYGON ((-58.286582946777344 -34.75862503051758, -58.286582946777344 -34.76136779785156, -58.28334426879883 -34.76136779785156, -58.28334426879883 -34.75862503051758, -58.286582946777344 -34.75862503051758))</td>\n",
       "      <td><img src=\"data:image/png;base64,iVBORw0KGgoAAAANSUhEUgAAACAAAAAgCAYAAABzenr0AAAFX0lEQVR4Xk3WydIVRRAF4HxHmRRFEAWRGZRJRJF5kB8FDIEQNMIw2BlBuIUFb+HeYMOOF/jJr6sO9y7ydndVVp6TY936rGpzT8uRllMtn7dsb/mq5WjLpy10drbsaPm4ZXfLrvl+cO5vm/verdFxhi3ina1LLf+3/NJyoKW+qEHAEwmLDFO2xmCMAPioBjiA6Bxr+XLqOruvVo4480kNAp4wbs0ze1vKz4mWQzW8RoAAiTj8QcuWGp6GEKDjLT+13KlB5sO5ByxR4KBv3r+q4T3dwy31TQ0CGCPDCwQoYG/dO+AQsI6QCFxo+baGZ0Do2EcCefoh8ajl3xoEOHy11lLAe+FzCAGk5PLk3AOWfUB58jJPZ5wFSKRrPZ1ApUqtsStqJWQUgQgpQ4yIzLn5LnQOIkoYtW7Ne+ri+3mG1yKJGHBPUYHlDCJSd7ulKCSsUcZe6FNcT2uwdlCaEOURQSDd4VvnZD+g9qQmxOX+h5bTLZXw8xwYA0B8IwH06xpkpIQRJBliBJBvNm60/D7X6bKdSKR187TnuXQBJgAoAw04EN4wQALuIFKKKW0qZS9qFJnw8tLZ/TUiC8d5Tlq3hkQJd4qDNwkfcIeB+XYgg4YwCBR5hhG+OL9FIzVlPWlNAYqOutE5SwqAxXAqNN0RMO9IJCJaSAtGjwBjFICISqfOUMRsiAqsH+cexys5FzbKGUoBJRmjwJFTvS9b7tbwFJgzbFn7bupmkNmnJ6LOb8xvhMsQAeowBR5kjAqTp0oWCYaE+EGNYtN2Z+ZZ+/bO17CDdIARvja/r7fcrEF4SYHwCJlDaTFeezIq71tr1cMZ1/SF1FPR0vVE2lm6f7dcrtEdpqDuQFgUkPZe2KzPfgByxLhvhoETaUBWxBItgydVDdy6NU6oJ+/AREBqFKpvBBcCFlVzptnZlic1mKvudIJ9RnNYISrCP2sUmbTRkQZnOYBgRjCMSMa8uis5Uwc8TUeY0XKcSZgCopNvT/kUWsKRFDPPEEAqhcuxXPecsM9+8S65B4Ihz9zZwmeNooKz5nBaMjNdBAwmOrxjc72r2AbMjnXvMEVnuYyEGmtg6f3chERIVbLJ5+6XT0ZCBIh1+aWvGBN2e9IFmH2R8+TIEoFMMSHKhUOQSGc4TCc5jAGkeQcQYcZDjL56EEUp+61W4z6X0VKEmck2clMxBjjdYR9RxkJQnfxVg7R9+nKsg9RD+lxqkFRnbHMUOCeWIpQCuUgdMGgTsUQhk1F4M4z+q3HxMGgtbclTqWDLuYzu2AGueK2xV8LHA15ja5QyihhQhDIXhEwt+P6n5UqNqDBEVxvyiiBxr0ZBP5x6HBXRdAW8csiGVnrTslnDM96kehWYaZZ/SUmTb/u5gDgTHWQRcE7x0kHMvvf3bch7Vf5Hy9uW1y3Pa+QxFctjBHM4fRyPeMuj/I9wBqHUjChKm/P3W57VuE2Xf0TahCJ2mMZDnjFiUDECxDtSIpP/CECNcwTSPbl0FB47zqVjpERE6SO0EACe69E3AiIDRJ4YxtYgknf55qVcegYgYU1+7WceiAL7hBOZIZWDhDfuAelgCAHr6X8RUlC8CmEEtCRi1jiTaZn/CrkPAAu9iZmhVz4cYMwdrmge1wiVdZ4T70auKagO1qOA1K+1Cn9a2beuQopz9tSb9GRiLv8HfGQWOCh8PE9v61ltyQte5Zq2p6/VjXzzkCOA6OXGhEE/c+DnqSOSpSAoWCDYIgLEnxHAIWANAOZJg9DrGGQ4knVOIARUmtnOILMnpWqnNmqExIai8BdMtcor9sBJ/hfyxL78AZMe3jOugBERTXsiGMJISq/0cDIj+h2ETrY08UfIawAAAABJRU5ErkJggg==\" width=\"200\" /></td>\n",
       "      <td><img src=\"data:image/png;base64,iVBORw0KGgoAAAANSUhEUgAAACAAAAAgCAYAAABzenr0AAAFYElEQVR4Xk3WydJURRAF4H5HxQkUcGBQmVUQRBFnGRwQAyEQiSAId0YYbHHhW7g33LjzBdL8qur034vse29VVp6TY/Vms3m1NpvDLSdb3mt5veX5ljdbTrUcrKmzv+WFlgMth1peWe9vrf3n1r53a3ScYYt4Z+uTlr9bvm853rJ5oyYBTyQsMkzZGoMxAuClmuAAonO65djSdfZI7TnizMs1CXjCuLbOvNYyfs62vF3TawQIkIjDz7Q8W9PTEAJ0puVGy82aZF5ce8ASBQ765v2fNb2ne6Jl825NAhgjwwsEKGBv3TvgELCOkAh82HKppmdA6NhHAnn6IXG35UlNAhz+vHZSwHvhcwgBpOTy3NoDln1AefIyT2ecBUikazedQKVKrbEraiNkFIEIKUOMiMzF9S50DiJKGLVuzXvq4qN1htciiRhwT1GB5QwiUne9ZSgkrFHGXuhTXA9qsnZQmhDlEUEg3eFb52Q/oPakJsTl/krL+ZZt+HkOjAEgvpEA+k5NMlLCCJIMMQLINxtftdxf63TZTiTSunna8xxgmACgDDTgQHjDAAm4g0gpprSplD2tWWTCy0tnj9aMLBznOWndGhIj3CkO3iR8wB0G5tuBDBrCIFDkGUb44/UtGqkp60lrClB01I3OGSyAxXAqNN0RMO9IJCJaSAtGjwBjFICISqfOUMRsiAqsq2uP49ucCxvlDKWAkoxR4Mip3j9avq3pKTBn2LJ2eelmkNmnJ6LOf7O+ER5DBKjDFHiQMSpMnipZJBgS4ts1i03bXVhn7dv7oKYdpAOM8Bfr+8uWr2sSHikQHiFzKC3Ga09G5X1f7fVwxjV9IfVUtHQ9kXaW7uOWT2t2hymoOxAWBaS9Dza7sx+AHDHum2HgRBqQFbFEy+BJVQO3bo0T6sk7MBGQGoXqG8FBwKJqzjR7v+XnmsxVdzrBPqM5rBAV4cOaUZQ2OtLgLAcQzAiGEcmYV3cjZ+qAp+kIM1qOMwlTQHTy7SmfQks4kmLmGQJIpXA5luueE/bZH94l90Aw5Jk7W/isUVRw1hxOS2ami4DBRId3bO52FduA2bHuHabobGc11sDS+7kJiZCqZJPP3S+fjIQIEOvyS18xJuz2pAsw+yLnyZERgUwxIcqFQ5BIZzhMJzmMAaR5BxBhxkOMvnoQRSm7U3vjPpfRKMLMZBu5qRgDnO6wjyhjIahOHtUkbZ++HOsg9ZA+lxok1RnbHAXOiVGEUiAXqQMGbSKWKGQyCm+G0V81Lx4GraUteSoVbDmX0R07wBWvNfZG+HjAa2yNUkYRA4pQ5oKQqQXfv7V8VjMqDNHVhrwiSNyqWdA/LT2Oimi6At44ZEMr/dtSNT3jTapXgZlm+ZeUNPm2nwuIM9FBFgHnFC8dxOx737Yh71X5Ly3/tfzT8nvNPKZieYxgDqeP4xFveZT/Ec4glJoRRWlz/oeWX2vepuMfkTahiB2m8ZBnjBhUjADxjpTI5D8CUOMcgXRPLh2Fx45z6RgpEVH6CA0CwHM9+kZAZIDIE8PYGkTyLt+8lEvPACSsya/9zANRYJ9wIjNke5Dwxj0gHQwhYD39L0IKilchjICWRMwaZzIt818h9wFgoTcxM/TGhwOMucMVzb2aobLOc+LdyDUF1cFuFJD6sfbCn1b2rauQ4pw99SY9mZjDqI/MAgeFj+fpbT2rLXnBq1zT9vS1upFvHnIEEL3cmDDoZw58t3REchQEBQsEW0SA+DMCOASsAcA8aRB6HYMMR7LOCYSASjPbGWT2pFTtjP9nQmJDUfgLplrlFXvgJP8LeWJf/oBJD+8ZV8CIiKY9EQxhJKVXejg5R/T/EFG2NGc2Iy0AAAAASUVORK5CYII=\" width=\"200\" /></td>\n",
       "      <td><img src=\"data:image/png;base64,iVBORw0KGgoAAAANSUhEUgAAACAAAAAgCAYAAABzenr0AAAFXElEQVR4Xk3WWa9VRRAF4PqPMqOIgODEJDOIA86CzBKBiJoY4psJ8VUf/Be+G1988w9ofd29zj25qbv37q6utWrsU3Wk/qvXWk61XGw51rK35a2W0y2vttA52LKv5eWWwy2H1vvba3/P2vdujY4zbBHvbH3c8lfL/ZY3W+r1mgQ8kbDIMGVrDMYIgAM1wQFE50zLG0vX2eO144gzr9Qk4Anj5jpztGX8e7flnZpeI0CARBx+qWVXTU9DCNDZlq9bbtcks3/tAUsUOOib93/U9J7uyZa6UJMAxsjwAgEK2Fv3DjgErCMkAu+3XKvpGRA69pFAnn5IPGn5tSYBDn9WWyngvfA5hABScnlu7QHLPqA8eZmnM84CJNK1nU6gUqXW2BW1ETKKQISUIUZE5up6FzoHESWMWrfmPXXxwTrDa5FEDLinqMByBhGpu9UyFBLWKGMv9Cmu72uydlCaEOURQSDd4VvnZD+g9qQmxOX+w5ZLLZvw8xwYA0B8IwH0fE0yUsIIkgwxAsg3G1+2fLfW6bKdSKR187TnOcAwAUAZaMCB8IYBEnAHkVJMaVMp+61mkQkvL509UTOycJznpHVrSIxwpzh4k/ABdxiYbwcyaAiDQJFnGOGP1rdopKasJ60pQNFRNzpnsAAWw6nQdEfAvCORiGghLRg9AoxRACIqnTpDEbMhKrBurD2Ob3IubJQzlAJKMkaBI6d6f2+5W9NTYM6wZe360s0gs09PRJ2/s74RHkMEqMMUeJAxKkyeKlkkGBLib2oWm7a7vM7at/deTTtIBxjhz9f3Fy1f1SQ8UiA8QuZQWozXnozK++7a6eGMa/pC6qlo6Xoi7Szd5y2f1OwOU1B3ICwKSHsfbLZnPwA5Ytw3w8CJNCArYomWwZOqBm7dGifUk3dgIiA1CtU3goOARdWcaXal5VlN5qo7nWCf0RxWiIrwx5pFJm10pMFZDiCYEQwjkjGv7kbO1AFP0xFmtBxnEqaA6OTbUz6FlnAkxcwzBJBK4XIs1z0n7LM/vEvugWDIM3e28FmjqOCsOZyWzEwXAYOJDu/Y3O4qtgGzY907TNHZzGqsgaX3cxMSIVXJJp+7Xz4ZCREg1uWXvmJM2O1JF2D2Rc6TIyMCmWJClAuHIJHOcJhOchgDSPMOIMKMhxh99SCKUvZt7Yz7XEajCDOTbeSmYgxwusM+ooyFoDr5qSZp+/TlWAeph/S51CCpztjmKHBOjCKUArlIHTBoE7FEIZNReDOM/qx58TBoLW3JU6lgy7mM7tgBrnitsTfCxwNeY2uUMooYUIQyF4RMLfj+peXTmlFhiK425BVB4kHNgn689DgqoukKeOOQDa30T4s/nvEm1avATLP8SkqafNvPBcSZ6CCLgHOKlw5i9r1v2pD3qvyHln9b/m55UTOPqVgeI5jD6eN4xFse5XeEMwilZkRR2px/2PJzzdt0/CLSJhSxwzQe8owRg4oRIN6REpn8RgBqnCOQ7smlo/DYcS4dIyUiSh+hQQB4rkffCIgMEHliGFuDSN7lm5dy6RmAhDX5tZ95IArsE05khmwOEt64B6SDIQSsp/9FSEHxKoQR0JKIWeNMpmV+K+Q+ACz0JmaG3vhwgDF3uKJ5WjNU1nlOvBu5pqA62I4CUo9qJ/xpZd+6CinO2VNv0pOJOYz6yCxwUPh4nt7Ws9qSF7zKNW1PX6sb+eYhRwDRy40Jg37mwL2lI5KjIChYINgiAsSPEcAhYA0A5kmD0OsYZDiSdU4gBFSa2c4gsyelamf8PhMSG4rCTzDVKq/YAyf5XcgT+/IHTHp4z7gCRkQ07YlgCCMpvdLDyTWi/wfKSLY0WH9aVgAAAABJRU5ErkJggg==\" width=\"200\" /></td>\n",
       "      <td><img src=\"data:image/png;base64,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\" width=\"200\" /></td>\n",
       "    </tr>\n",
       "  </tbody>\n",
       "</table>"
      ],
      "text/plain": [
       "<IPython.core.display.HTML object>"
      ]
     },
     "metadata": {},
     "output_type": "display_data"
    }
   ],
   "source": [
    "'''Load and Visualize Written GeoTiff Image.'''\n",
    "\n",
    "df = sedona.read.format(\"geotiff\").option(\"dropInvalid\",True).option(\"readToCRS\", \"EPSG:4326\").load(writtenPath)\n",
    "df = df.selectExpr(\"image.origin as origin\",\"ST_GeomFromWkt(image.geometry) as Geom\", \"image.height as height\", \"image.width as width\", \"image.data as data\", \"image.nBands as bands\")\n",
    "\n",
    "df = df.selectExpr(\"RS_GetBand(data,1,bands) as targetband\", \"height\", \"width\", \"bands\", \"Geom\")\n",
    "df_base64 = df.selectExpr(\"Geom\", \"RS_Base64(height,width,RS_Normalize(targetBand), RS_Array(height*width,0.0), RS_Array(height*width, 0.0)) as red\",\"RS_Base64(height,width,RS_Array(height*width, 0.0), RS_Normalize(targetBand), RS_Array(height*width, 0.0)) as green\", \"RS_Base64(height,width,RS_Array(height*width, 0.0),  RS_Array(height*width, 0.0), RS_Normalize(targetBand)) as blue\",\"RS_Base64(height,width,RS_Normalize(targetBand), RS_Normalize(targetBand),RS_Normalize(targetBand)) as RGB\" )\n",
    "df_HTML = df_base64.selectExpr(\"Geom\",\"RS_HTML(red) as RedBand\",\"RS_HTML(blue) as BlueBand\",\"RS_HTML(green) as GreenBand\", \"RS_HTML(RGB) as CombinedBand\")\n",
    "display(HTML(df_HTML.limit(2).toPandas().to_html(escape=False)))"
   ]
  },
  {
   "cell_type": "markdown",
   "metadata": {},
   "source": [
    "# Transformation of GeoTiff Images"
   ]
  },
  {
   "cell_type": "code",
   "execution_count": 37,
   "metadata": {},
   "outputs": [
    {
     "name": "stdout",
     "output_type": "stream",
     "text": [
      "+--------------------+--------------------+------+-----+--------------------+-----+\n",
      "|              origin|                geom|height|width|                data|bands|\n",
      "+--------------------+--------------------+------+-----+--------------------+-----+\n",
      "|file:/Users/niles...|POLYGON ((-58.702...|    32|   32|[1081.0, 1068.0, ...|    4|\n",
      "|file:/Users/niles...|POLYGON ((-58.286...|    32|   32|[1151.0, 1141.0, ...|    4|\n",
      "+--------------------+--------------------+------+-----+--------------------+-----+\n",
      "\n"
     ]
    }
   ],
   "source": [
    "'''First load GeoTiff Images'''\n",
    "df = sedona.read.format(\"geotiff\").option(\"dropInvalid\",True).option(\"readToCRS\", \"EPSG:4326\").option(\"disableErrorInCRS\", False).load(DATA_DIR)\n",
    "df = df.selectExpr(\"image.origin as origin\",\"ST_GeomFromWkt(image.geometry) as geom\", \"image.height as height\", \"image.width as width\", \"image.data as data\", \"image.nBands as bands\")\n",
    "df.show(5)"
   ]
  },
  {
   "cell_type": "code",
   "execution_count": 38,
   "metadata": {},
   "outputs": [
    {
     "name": "stdout",
     "output_type": "stream",
     "text": [
      "+--------------------+--------------------+-----+------+--------------------+-----+--------------------+\n",
      "|              origin|                geom|width|height|                data|bands|normalizedDifference|\n",
      "+--------------------+--------------------+-----+------+--------------------+-----+--------------------+\n",
      "|file:/Users/niles...|POLYGON ((-58.702...|   32|    32|[1081.0, 1068.0, ...|    4|[0.09, 0.08, 0.11...|\n",
      "|file:/Users/niles...|POLYGON ((-58.286...|   32|    32|[1151.0, 1141.0, ...|    4|[0.13, 0.09, 0.09...|\n",
      "+--------------------+--------------------+-----+------+--------------------+-----+--------------------+\n",
      "\n"
     ]
    }
   ],
   "source": [
    "# First extract the bands for which normalized difference index needs to be calculated\n",
    "df = df.selectExpr(\"origin\", \"geom\", \"width\", \"height\", \"data\", \"bands\", \"RS_GetBand(data, 1, bands) as band1\", \"RS_GetBand(data, 2, bands) as band2\")\n",
    "# Get the normalized difference index between the extracted bands\n",
    "df = df.selectExpr(\"origin\", \"geom\", \"width\", \"height\", \"data\", \"bands\", \"RS_NormalizedDifference(band2, band1) as normalizedDifference\")\n",
    "df.show(5)"
   ]
  },
  {
   "cell_type": "code",
   "execution_count": 39,
   "metadata": {},
   "outputs": [
    {
     "name": "stdout",
     "output_type": "stream",
     "text": [
      "+--------------------+--------------------+--------------------+------+-----+------------+\n",
      "|              origin|                geom|         data_edited|height|width|nBand_edited|\n",
      "+--------------------+--------------------+--------------------+------+-----+------------+\n",
      "|file:/Users/niles...|POLYGON ((-58.702...|[1081.0, 1068.0, ...|    32|   32|           5|\n",
      "|file:/Users/niles...|POLYGON ((-58.286...|[1151.0, 1141.0, ...|    32|   32|           5|\n",
      "+--------------------+--------------------+--------------------+------+-----+------------+\n",
      "\n"
     ]
    }
   ],
   "source": [
    "'''RS_Append() takes the data array containing bands, a new band to be appended, and number of total bands in the data array.\n",
    "    It appends the new band to the end of the data array and returns the appended data'''\n",
    "\n",
    "df = df.selectExpr(\"origin\", \"geom\", \"RS_Append(data, normalizedDifference, bands) as data_edited\", \"height\", \"width\", \"bands\").drop(\"data\")\n",
    "df = df.withColumn(\"nBand_edited\", col(\"bands\") + 1).drop(\"bands\")\n",
    "df.show()"
   ]
  },
  {
   "cell_type": "code",
   "execution_count": 40,
   "metadata": {},
   "outputs": [],
   "source": [
    "'''Writing GeoTiff DataFrames as GeoTiff Images'''\n",
    "SAVE_PATH = \"./data/raster-written/\"\n",
    "df.coalesce(1).write.mode(\"overwrite\").format(\"geotiff\").option(\"writeToCRS\", \"EPSG:4326\").option(\"fieldGeometry\", \"geom\").option(\"fieldNBands\", \"nBand_edited\").option(\"fieldData\", \"data_edited\").save(SAVE_PATH)"
   ]
  },
  {
   "cell_type": "markdown",
   "metadata": {},
   "source": [
    "# User can also create some UDF manually to manipulate Geotiff dataframes"
   ]
  },
  {
   "cell_type": "code",
   "execution_count": 42,
   "metadata": {},
   "outputs": [
    {
     "name": "stdout",
     "output_type": "stream",
     "text": [
      "+------+\n",
      "|   sum|\n",
      "+------+\n",
      "| 753.0|\n",
      "|1017.0|\n",
      "+------+\n",
      "\n"
     ]
    }
   ],
   "source": [
    "'''Sample UDF calculates sum of all the values in a band which are greater than 1000.0'''\n",
    "\n",
    "def SumOfValues(band):\n",
    "    total = 0.0\n",
    "    for num in band:\n",
    "        if num>1000.0:\n",
    "            total+=1\n",
    "    return total\n",
    "\n",
    "df = sedona.read.format(\"geotiff\").option(\"dropInvalid\",True).option(\"readToCRS\", \"EPSG:4326\").load(DATA_DIR)\n",
    "df = df.selectExpr(\"image.origin as origin\",\"ST_GeomFromWkt(image.geometry) as Geom\", \"image.height as height\", \"image.width as width\", \"image.data as data\", \"image.nBands as bands\")\n",
    "df = df.selectExpr(\"RS_GetBand(data,1,bands) as targetband\", \"height\", \"width\", \"bands\", \"Geom\")\n",
    "    \n",
    "calculateSum = udf(SumOfValues, DoubleType())\n",
    "sedona.udf.register(\"RS_Sum\", calculateSum)\n",
    "\n",
    "sumDF = df.selectExpr(\"RS_Sum(targetband) as sum\")\n",
    "sumDF.show()"
   ]
  },
  {
   "cell_type": "code",
   "execution_count": 43,
   "metadata": {},
   "outputs": [
    {
     "data": {
      "text/html": [
       "<table border=\"1\" class=\"dataframe\">\n",
       "  <thead>\n",
       "    <tr style=\"text-align: right;\">\n",
       "      <th></th>\n",
       "      <th>Geom</th>\n",
       "      <th>selectedregion</th>\n",
       "    </tr>\n",
       "  </thead>\n",
       "  <tbody>\n",
       "    <tr>\n",
       "      <th>0</th>\n",
       "      <td>POLYGON ((-58.70271939504447 -34.418775445554786, -58.702776058228636 -34.421569880680615, -58.6994039180242 -34.42161679331493, -58.69934736692278 -34.4188223533111, -58.70271939504447 -34.418775445554786))</td>\n",
       "      <td><img src=\"data:image/png;base64,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\" width=\"200\" /></td>\n",
       "    </tr>\n",
       "    <tr>\n",
       "      <th>1</th>\n",
       "      <td>POLYGON ((-58.286636576261145 -34.758580906202866, -58.286679941749476 -34.76137571668496, -58.28329340123003 -34.76141146033393, -58.28325014980317 -34.75861664615162, -58.286636576261145 -34.758580906202866))</td>\n",
       "      <td><img src=\"data:image/png;base64,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\" width=\"200\" /></td>\n",
       "    </tr>\n",
       "  </tbody>\n",
       "</table>"
      ],
      "text/plain": [
       "<IPython.core.display.HTML object>"
      ]
     },
     "metadata": {},
     "output_type": "display_data"
    }
   ],
   "source": [
    "'''Sample UDF to visualize a particular region of a GeoTiff image'''\n",
    "\n",
    "def generatemask(band, width,height):\n",
    "    for (i,val) in enumerate(band):\n",
    "        if (i%width>=12 and i%width<26) and (i%height>=12 and i%height<26):\n",
    "            band[i] = 255.0\n",
    "        else:\n",
    "            band[i] = 0.0\n",
    "    return band\n",
    "\n",
    "maskValues = udf(generatemask, ArrayType(DoubleType()))\n",
    "sedona.udf.register(\"RS_MaskValues\", maskValues)\n",
    "\n",
    "\n",
    "df_base64 = df.selectExpr(\"Geom\", \"RS_Base64(height,width,RS_Normalize(targetband), RS_Array(height*width,0.0), RS_Array(height*width, 0.0), RS_MaskValues(targetband,width,height)) as region\" )\n",
    "df_HTML = df_base64.selectExpr(\"Geom\",\"RS_HTML(region) as selectedregion\")\n",
    "display(HTML(df_HTML.limit(2).toPandas().to_html(escape=False)))\n"
   ]
  },
  {
   "cell_type": "code",
   "execution_count": null,
   "metadata": {},
   "outputs": [],
   "source": []
  }
 ],
 "metadata": {
  "kernelspec": {
   "display_name": "apache-sedona",
   "language": "python",
   "name": "apache-sedona"
  },
  "language_info": {
   "codemirror_mode": {
    "name": "ipython",
    "version": 3
   },
   "file_extension": ".py",
   "mimetype": "text/x-python",
   "name": "python",
   "nbconvert_exporter": "python",
   "pygments_lexer": "ipython3",
   "version": "3.9.6"
  }
 },
 "nbformat": 4,
 "nbformat_minor": 2
}
